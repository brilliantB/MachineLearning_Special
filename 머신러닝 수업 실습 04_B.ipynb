{
 "cells": [
  {
   "cell_type": "markdown",
   "id": "a240b9c1",
   "metadata": {},
   "source": [
    "# 신경망 만들기"
   ]
  },
  {
   "cell_type": "markdown",
   "id": "a01fbde7",
   "metadata": {},
   "source": [
    "## Step 1. 기본 클래스 만들기\n",
    "- 구조 정의\n",
    "- 학습\n",
    "- 추론"
   ]
  },
  {
   "cell_type": "code",
   "execution_count": 13,
   "id": "c3432c51",
   "metadata": {},
   "outputs": [],
   "source": [
    "import numpy as np\n",
    "import scipy.special"
   ]
  },
  {
   "cell_type": "code",
   "execution_count": 14,
   "id": "e2f47ad2",
   "metadata": {},
   "outputs": [],
   "source": [
    "# 신경망 클래스 정의\n",
    "class MyNeuralNet :\n",
    "    \n",
    "    def __init__(self, inputnodes, hiddennodes, outputnodes, learningrate):\n",
    "        # 입력, 은닉, 출력 계층의 노드 개수 설정\n",
    "        self.innode = inputnodes\n",
    "        self.hnode = hiddennodes\n",
    "        self.outnode = outputnodes\n",
    "        \n",
    "        # 학습률\n",
    "        self.lr = learningrate\n",
    "        \n",
    "        self.wih = np.random.rand(self.hnode, self.innode) -0.5\n",
    "        self.who = np.random.rand(self.outnode, self.hnode) -0.5\n",
    "        \n",
    "        pass\n",
    "    \n",
    "    def printWeight(self):\n",
    "        print(self.wih.shape, self.wih)\n",
    "        print(self.who.shape, self.who)\n",
    "        \n",
    "    # forward and backward\n",
    "    def train(self, input_list, target_list):\n",
    "        input = np.array(input_list, ndmin = 2).T\n",
    "        \n",
    "        # input -> hidden\n",
    "        hidden_input = np.dot(self.wih, input)\n",
    "        hidden_output = scipy.special.expit(hidden_input)\n",
    "        \n",
    "        # hidden -> output\n",
    "        output_hidden = np.dot(self.who, hidden_output)\n",
    "        final_outputs = scipy.special.expit(output_hidden)\n",
    "        \n",
    "        # Get Error\n",
    "        targets = np.array(target_list, ndmin = 2).T\n",
    "        output_error = targets - final_outputs\n",
    "        hidden_error = np.dot(self.who.T, output_error)\n",
    "        \n",
    "        # Update weight\n",
    "        self.who += self.lr * \\\n",
    "                            np.dot((output_error * final_outputs) * (1.0 - final_outputs), \\\n",
    "                            np.transpose(hidden_output))\n",
    "        \n",
    "        self.wih += self.lr * \\\n",
    "                            np.dot((hidden_error * hidden_output) * (1.0 - hidden_output), \\\n",
    "                            np.transpose(input))\n",
    "        \n",
    "    # forward\n",
    "    def inference(self, input_list):\n",
    "        input = np.array(input_list, ndmin = 2).T\n",
    "        \n",
    "        # input -> hidden\n",
    "        hidden_input = np.dot(self.wih, input)\n",
    "        hidden_output = scipy.special.expit(hidden_input)\n",
    "        \n",
    "        # hidden -> output\n",
    "        output_hidden = np.dot(self.who, hidden_output)\n",
    "        final_output = scipy.special.expit(output_hidden)\n",
    "        \n",
    "        return final_output"
   ]
  },
  {
   "cell_type": "code",
   "execution_count": 15,
   "id": "2a0901a2",
   "metadata": {},
   "outputs": [
    {
     "name": "stdout",
     "output_type": "stream",
     "text": [
      "[[0.45943792]\n",
      " [0.5238013 ]\n",
      " [0.52773001]]\n",
      "[[0.47646203]\n",
      " [0.48961156]\n",
      " [0.50302406]]\n"
     ]
    }
   ],
   "source": [
    "net = MyNeuralNet(4, 4, 3, 0.5)\n",
    "print(net.inference([10,10,20,20]))\n",
    "net.train([10, 20, 40, 50], [0.5, 0.2, 0.1])\n",
    "print(net.inference([10,10,20,20]))"
   ]
  },
  {
   "cell_type": "markdown",
   "id": "2ead9518",
   "metadata": {},
   "source": [
    "# MNIST"
   ]
  },
  {
   "cell_type": "code",
   "execution_count": 1,
   "id": "a1bf36c7",
   "metadata": {},
   "outputs": [
    {
     "name": "stdout",
     "output_type": "stream",
     "text": [
      "Requirement already satisfied: numpy in c:\\users\\user\\anaconda3\\lib\\site-packages (1.20.1)\n"
     ]
    }
   ],
   "source": [
    "!pip install numpy"
   ]
  },
  {
   "cell_type": "code",
   "execution_count": 2,
   "id": "abc20ca8",
   "metadata": {
    "scrolled": false
   },
   "outputs": [
    {
     "name": "stderr",
     "output_type": "stream",
     "text": [
      "하위 디렉터리 또는 파일 mnist_data이(가) 이미 있습니다.\n"
     ]
    }
   ],
   "source": [
    "!mkdir mnist_data"
   ]
  },
  {
   "cell_type": "code",
   "execution_count": 3,
   "id": "46c9445d",
   "metadata": {},
   "outputs": [],
   "source": [
    "mnist_train_url = 'http://www.pjreddie.com/media/files/mnist_train.csv'\n",
    "mnist_test_url = 'http://www.pjreddie.com/media/files/mnist_test.csv'"
   ]
  },
  {
   "cell_type": "code",
   "execution_count": 10,
   "id": "2e9f6b97",
   "metadata": {},
   "outputs": [],
   "source": [
    "import shutil\n",
    "import requests\n",
    "\n",
    "def download(url, file_name, file_mode=\"wb\"):\n",
    "    response = requests.get(url, stream=True)\n",
    "    with open(file_name, file_mode) as out_file:\n",
    "        shutil.copyfileobj(response.raw, out_file)\n",
    "    del response"
   ]
  },
  {
   "cell_type": "code",
   "execution_count": 12,
   "id": "bb46087c",
   "metadata": {},
   "outputs": [],
   "source": [
    "# mnist_train_url, mnist_test_url 다운받기\n",
    "download(mnist_train_url, 'mnist_data/mnist_train_xxxx.csv')"
   ]
  },
  {
   "cell_type": "code",
   "execution_count": 16,
   "id": "3893ad5b",
   "metadata": {},
   "outputs": [],
   "source": [
    "from tqdm import tqdm\n",
    "import requests\n",
    "\n",
    "# URL = \"http://www.ovh.net/files/10Mb.dat\" # big file test\n",
    "def download(url, file_name, file_mode=\"wb\"):\n",
    "    # Streaming, so we can iterate over the response.\n",
    "    response = requests.get(url, stream=True)\n",
    "    total_size_in_bytes = int(response.headers.get('content-length', 0))\n",
    "    block_size = 1024  #1 Kibibyte\n",
    "    progress_bar = tqdm(total=total_size_in_bytes, unit='iB', unit_scale=True)\n",
    "    with open(file_name, file_mode) as file:\n",
    "        for data in response.iter_content(block_size):\n",
    "            progress_bar.update(len(data))\n",
    "            file.write(data)\n",
    "    progress_bar.close()\n",
    "    if total_size_in_bytes != 0 and progress_bar.n != total_size_in_bytes:\n",
    "        print(\"ERROR, somthing wnt wrong\")"
   ]
  },
  {
   "cell_type": "code",
   "execution_count": 17,
   "id": "ef65dd3c",
   "metadata": {},
   "outputs": [
    {
     "name": "stderr",
     "output_type": "stream",
     "text": [
      "100%|██████████████████████████████████████████████████████████████████████████████| 110M/110M [00:18<00:00, 6.04MiB/s]\n",
      "100%|████████████████████████████████████████████████████████████████████████████| 18.3M/18.3M [00:03<00:00, 4.99MiB/s]\n"
     ]
    }
   ],
   "source": [
    "download(mnist_train_url, 'mnist_data/mnist_train.csv', 'wb')\n",
    "download(mnist_test_url, 'mnist_data/mnist_test.csv', 'wb')"
   ]
  },
  {
   "cell_type": "markdown",
   "id": "b48ee538",
   "metadata": {},
   "source": [
    "# MNIST_mini "
   ]
  },
  {
   "cell_type": "code",
   "execution_count": 21,
   "id": "659d45e1",
   "metadata": {},
   "outputs": [
    {
     "name": "stderr",
     "output_type": "stream",
     "text": [
      "182kiB [00:00, 7.96MiB/s]                                                                                              \n"
     ]
    },
    {
     "name": "stdout",
     "output_type": "stream",
     "text": [
      "ERROR, somthing wnt wrong\n"
     ]
    },
    {
     "name": "stderr",
     "output_type": "stream",
     "text": [
      "18.0kiB [00:00, 1.64MiB/s]                                                                                             "
     ]
    },
    {
     "name": "stdout",
     "output_type": "stream",
     "text": [
      "ERROR, somthing wnt wrong\n"
     ]
    },
    {
     "name": "stderr",
     "output_type": "stream",
     "text": [
      "\n"
     ]
    }
   ],
   "source": [
    "# 에러메세지는 신경쓰지 말자, 에러를 보기위한 작업\n",
    "\n",
    "mnist_train_100_url = 'https://git.io/vySZ1'\n",
    "mnist_test_10_url = 'https://git.io/vySZP'\n",
    "\n",
    "download(mnist_train_100_url, 'mnist_data/mnist_train_100.csv', 'wb')\n",
    "download(mnist_test_10_url, 'mnist_data/mnist_test_10.csv', 'wb')"
   ]
  },
  {
   "cell_type": "code",
   "execution_count": 22,
   "id": "49072555",
   "metadata": {
    "scrolled": true
   },
   "outputs": [
    {
     "name": "stdout",
     "output_type": "stream",
     "text": [
      " C 드라이브의 볼륨: Windows10\n",
      " 볼륨 일련 번호: 2C29-5E06\n",
      "\n",
      " C:\\Users\\user\\mnist_data 디렉터리\n",
      "\n",
      "2021-11-20  오전 11:00    <DIR>          .\n",
      "2021-11-20  오전 11:00    <DIR>          ..\n",
      "2021-11-20  오전 11:04        18,289,443 mnist_test.csv\n",
      "2021-11-20  오전 11:07            18,006 mnist_test_10.csv\n",
      "2021-11-20  오전 11:00        18,289,443 mnist_text_xxxx.csv\n",
      "2021-11-20  오전 11:04       109,575,994 mnist_train.csv\n",
      "2021-11-20  오전 11:07           182,023 mnist_train_100.csv\n",
      "2021-11-20  오전 11:02       109,575,994 mnist_train_xxxx.csv\n",
      "               6개 파일         255,930,903 바이트\n",
      "               2개 디렉터리  20,431,667,200 바이트 남음\n"
     ]
    }
   ],
   "source": [
    "!dir mnist_data"
   ]
  },
  {
   "cell_type": "code",
   "execution_count": 23,
   "id": "7145d8d3",
   "metadata": {},
   "outputs": [
    {
     "data": {
      "text/html": [
       "<div>\n",
       "<style scoped>\n",
       "    .dataframe tbody tr th:only-of-type {\n",
       "        vertical-align: middle;\n",
       "    }\n",
       "\n",
       "    .dataframe tbody tr th {\n",
       "        vertical-align: top;\n",
       "    }\n",
       "\n",
       "    .dataframe thead th {\n",
       "        text-align: right;\n",
       "    }\n",
       "</style>\n",
       "<table border=\"1\" class=\"dataframe\">\n",
       "  <thead>\n",
       "    <tr style=\"text-align: right;\">\n",
       "      <th></th>\n",
       "      <th>0</th>\n",
       "      <th>1</th>\n",
       "      <th>2</th>\n",
       "      <th>3</th>\n",
       "      <th>4</th>\n",
       "      <th>5</th>\n",
       "      <th>6</th>\n",
       "      <th>7</th>\n",
       "      <th>8</th>\n",
       "      <th>9</th>\n",
       "      <th>...</th>\n",
       "      <th>775</th>\n",
       "      <th>776</th>\n",
       "      <th>777</th>\n",
       "      <th>778</th>\n",
       "      <th>779</th>\n",
       "      <th>780</th>\n",
       "      <th>781</th>\n",
       "      <th>782</th>\n",
       "      <th>783</th>\n",
       "      <th>784</th>\n",
       "    </tr>\n",
       "  </thead>\n",
       "  <tbody>\n",
       "    <tr>\n",
       "      <th>0</th>\n",
       "      <td>5</td>\n",
       "      <td>0</td>\n",
       "      <td>0</td>\n",
       "      <td>0</td>\n",
       "      <td>0</td>\n",
       "      <td>0</td>\n",
       "      <td>0</td>\n",
       "      <td>0</td>\n",
       "      <td>0</td>\n",
       "      <td>0</td>\n",
       "      <td>...</td>\n",
       "      <td>0</td>\n",
       "      <td>0</td>\n",
       "      <td>0</td>\n",
       "      <td>0</td>\n",
       "      <td>0</td>\n",
       "      <td>0</td>\n",
       "      <td>0</td>\n",
       "      <td>0</td>\n",
       "      <td>0</td>\n",
       "      <td>0</td>\n",
       "    </tr>\n",
       "    <tr>\n",
       "      <th>1</th>\n",
       "      <td>0</td>\n",
       "      <td>0</td>\n",
       "      <td>0</td>\n",
       "      <td>0</td>\n",
       "      <td>0</td>\n",
       "      <td>0</td>\n",
       "      <td>0</td>\n",
       "      <td>0</td>\n",
       "      <td>0</td>\n",
       "      <td>0</td>\n",
       "      <td>...</td>\n",
       "      <td>0</td>\n",
       "      <td>0</td>\n",
       "      <td>0</td>\n",
       "      <td>0</td>\n",
       "      <td>0</td>\n",
       "      <td>0</td>\n",
       "      <td>0</td>\n",
       "      <td>0</td>\n",
       "      <td>0</td>\n",
       "      <td>0</td>\n",
       "    </tr>\n",
       "    <tr>\n",
       "      <th>2</th>\n",
       "      <td>4</td>\n",
       "      <td>0</td>\n",
       "      <td>0</td>\n",
       "      <td>0</td>\n",
       "      <td>0</td>\n",
       "      <td>0</td>\n",
       "      <td>0</td>\n",
       "      <td>0</td>\n",
       "      <td>0</td>\n",
       "      <td>0</td>\n",
       "      <td>...</td>\n",
       "      <td>0</td>\n",
       "      <td>0</td>\n",
       "      <td>0</td>\n",
       "      <td>0</td>\n",
       "      <td>0</td>\n",
       "      <td>0</td>\n",
       "      <td>0</td>\n",
       "      <td>0</td>\n",
       "      <td>0</td>\n",
       "      <td>0</td>\n",
       "    </tr>\n",
       "    <tr>\n",
       "      <th>3</th>\n",
       "      <td>1</td>\n",
       "      <td>0</td>\n",
       "      <td>0</td>\n",
       "      <td>0</td>\n",
       "      <td>0</td>\n",
       "      <td>0</td>\n",
       "      <td>0</td>\n",
       "      <td>0</td>\n",
       "      <td>0</td>\n",
       "      <td>0</td>\n",
       "      <td>...</td>\n",
       "      <td>0</td>\n",
       "      <td>0</td>\n",
       "      <td>0</td>\n",
       "      <td>0</td>\n",
       "      <td>0</td>\n",
       "      <td>0</td>\n",
       "      <td>0</td>\n",
       "      <td>0</td>\n",
       "      <td>0</td>\n",
       "      <td>0</td>\n",
       "    </tr>\n",
       "    <tr>\n",
       "      <th>4</th>\n",
       "      <td>9</td>\n",
       "      <td>0</td>\n",
       "      <td>0</td>\n",
       "      <td>0</td>\n",
       "      <td>0</td>\n",
       "      <td>0</td>\n",
       "      <td>0</td>\n",
       "      <td>0</td>\n",
       "      <td>0</td>\n",
       "      <td>0</td>\n",
       "      <td>...</td>\n",
       "      <td>0</td>\n",
       "      <td>0</td>\n",
       "      <td>0</td>\n",
       "      <td>0</td>\n",
       "      <td>0</td>\n",
       "      <td>0</td>\n",
       "      <td>0</td>\n",
       "      <td>0</td>\n",
       "      <td>0</td>\n",
       "      <td>0</td>\n",
       "    </tr>\n",
       "    <tr>\n",
       "      <th>5</th>\n",
       "      <td>2</td>\n",
       "      <td>0</td>\n",
       "      <td>0</td>\n",
       "      <td>0</td>\n",
       "      <td>0</td>\n",
       "      <td>0</td>\n",
       "      <td>0</td>\n",
       "      <td>0</td>\n",
       "      <td>0</td>\n",
       "      <td>0</td>\n",
       "      <td>...</td>\n",
       "      <td>0</td>\n",
       "      <td>0</td>\n",
       "      <td>0</td>\n",
       "      <td>0</td>\n",
       "      <td>0</td>\n",
       "      <td>0</td>\n",
       "      <td>0</td>\n",
       "      <td>0</td>\n",
       "      <td>0</td>\n",
       "      <td>0</td>\n",
       "    </tr>\n",
       "    <tr>\n",
       "      <th>6</th>\n",
       "      <td>1</td>\n",
       "      <td>0</td>\n",
       "      <td>0</td>\n",
       "      <td>0</td>\n",
       "      <td>0</td>\n",
       "      <td>0</td>\n",
       "      <td>0</td>\n",
       "      <td>0</td>\n",
       "      <td>0</td>\n",
       "      <td>0</td>\n",
       "      <td>...</td>\n",
       "      <td>0</td>\n",
       "      <td>0</td>\n",
       "      <td>0</td>\n",
       "      <td>0</td>\n",
       "      <td>0</td>\n",
       "      <td>0</td>\n",
       "      <td>0</td>\n",
       "      <td>0</td>\n",
       "      <td>0</td>\n",
       "      <td>0</td>\n",
       "    </tr>\n",
       "    <tr>\n",
       "      <th>7</th>\n",
       "      <td>3</td>\n",
       "      <td>0</td>\n",
       "      <td>0</td>\n",
       "      <td>0</td>\n",
       "      <td>0</td>\n",
       "      <td>0</td>\n",
       "      <td>0</td>\n",
       "      <td>0</td>\n",
       "      <td>0</td>\n",
       "      <td>0</td>\n",
       "      <td>...</td>\n",
       "      <td>0</td>\n",
       "      <td>0</td>\n",
       "      <td>0</td>\n",
       "      <td>0</td>\n",
       "      <td>0</td>\n",
       "      <td>0</td>\n",
       "      <td>0</td>\n",
       "      <td>0</td>\n",
       "      <td>0</td>\n",
       "      <td>0</td>\n",
       "    </tr>\n",
       "    <tr>\n",
       "      <th>8</th>\n",
       "      <td>1</td>\n",
       "      <td>0</td>\n",
       "      <td>0</td>\n",
       "      <td>0</td>\n",
       "      <td>0</td>\n",
       "      <td>0</td>\n",
       "      <td>0</td>\n",
       "      <td>0</td>\n",
       "      <td>0</td>\n",
       "      <td>0</td>\n",
       "      <td>...</td>\n",
       "      <td>0</td>\n",
       "      <td>0</td>\n",
       "      <td>0</td>\n",
       "      <td>0</td>\n",
       "      <td>0</td>\n",
       "      <td>0</td>\n",
       "      <td>0</td>\n",
       "      <td>0</td>\n",
       "      <td>0</td>\n",
       "      <td>0</td>\n",
       "    </tr>\n",
       "    <tr>\n",
       "      <th>9</th>\n",
       "      <td>4</td>\n",
       "      <td>0</td>\n",
       "      <td>0</td>\n",
       "      <td>0</td>\n",
       "      <td>0</td>\n",
       "      <td>0</td>\n",
       "      <td>0</td>\n",
       "      <td>0</td>\n",
       "      <td>0</td>\n",
       "      <td>0</td>\n",
       "      <td>...</td>\n",
       "      <td>0</td>\n",
       "      <td>0</td>\n",
       "      <td>0</td>\n",
       "      <td>0</td>\n",
       "      <td>0</td>\n",
       "      <td>0</td>\n",
       "      <td>0</td>\n",
       "      <td>0</td>\n",
       "      <td>0</td>\n",
       "      <td>0</td>\n",
       "    </tr>\n",
       "  </tbody>\n",
       "</table>\n",
       "<p>10 rows × 785 columns</p>\n",
       "</div>"
      ],
      "text/plain": [
       "   0    1    2    3    4    5    6    7    8    9    ...  775  776  777  778  \\\n",
       "0    5    0    0    0    0    0    0    0    0    0  ...    0    0    0    0   \n",
       "1    0    0    0    0    0    0    0    0    0    0  ...    0    0    0    0   \n",
       "2    4    0    0    0    0    0    0    0    0    0  ...    0    0    0    0   \n",
       "3    1    0    0    0    0    0    0    0    0    0  ...    0    0    0    0   \n",
       "4    9    0    0    0    0    0    0    0    0    0  ...    0    0    0    0   \n",
       "5    2    0    0    0    0    0    0    0    0    0  ...    0    0    0    0   \n",
       "6    1    0    0    0    0    0    0    0    0    0  ...    0    0    0    0   \n",
       "7    3    0    0    0    0    0    0    0    0    0  ...    0    0    0    0   \n",
       "8    1    0    0    0    0    0    0    0    0    0  ...    0    0    0    0   \n",
       "9    4    0    0    0    0    0    0    0    0    0  ...    0    0    0    0   \n",
       "\n",
       "   779  780  781  782  783  784  \n",
       "0    0    0    0    0    0    0  \n",
       "1    0    0    0    0    0    0  \n",
       "2    0    0    0    0    0    0  \n",
       "3    0    0    0    0    0    0  \n",
       "4    0    0    0    0    0    0  \n",
       "5    0    0    0    0    0    0  \n",
       "6    0    0    0    0    0    0  \n",
       "7    0    0    0    0    0    0  \n",
       "8    0    0    0    0    0    0  \n",
       "9    0    0    0    0    0    0  \n",
       "\n",
       "[10 rows x 785 columns]"
      ]
     },
     "execution_count": 23,
     "metadata": {},
     "output_type": "execute_result"
    }
   ],
   "source": [
    "import pandas as pd\n",
    "csv_test = pd.read_csv('mnist_data/mnist_train_100.csv', header=None)\n",
    "csv_test.head(10)"
   ]
  },
  {
   "cell_type": "code",
   "execution_count": 24,
   "id": "ba41827e",
   "metadata": {},
   "outputs": [
    {
     "name": "stdout",
     "output_type": "stream",
     "text": [
      "7,0,0,0,0,0,0,0,0,0,0,0,0,0,0,0,0,0,0,0,0,0,0,0,0,0,0,0,0,0,0,0,0,0,0,0,0,0,0,0,0,0,0,0,0,0,0,0,0,0,0,0,0,0,0,0,0,0,0,0,0,0,0,0,0,0,0,0,0,0,0,0,0,0,0,0,0,0,0,0,0,0,0,0,0,0,0,0,0,0,0,0,0,0,0,0,0,0,0,0,0,0,0,0,0,0,0,0,0,0,0,0,0,0,0,0,0,0,0,0,0,0,0,0,0,0,0,0,0,0,0,0,0,0,0,0,0,0,0,0,0,0,0,0,0,0,0,0,0,0,0,0,0,0,0,0,0,0,0,0,0,0,0,0,0,0,0,0,0,0,0,0,0,0,0,0,0,0,0,0,0,0,0,0,0,0,0,0,0,0,0,0,0,0,0,0,0,0,0,0,0,0,0,84,185,159,151,60,36,0,0,0,0,0,0,0,0,0,0,0,0,0,0,0,0,0,0,0,0,0,0,222,254,254,254,254,241,198,198,198,198,198,198,198,198,170,52,0,0,0,0,0,0,0,0,0,0,0,0,67,114,72,114,163,227,254,225,254,254,254,250,229,254,254,140,0,0,0,0,0,0,0,0,0,0,0,0,0,0,0,0,0,17,66,14,67,67,67,59,21,236,254,106,0,0,0,0,0,0,0,0,0,0,0,0,0,0,0,0,0,0,0,0,0,0,0,0,83,253,209,18,0,0,0,0,0,0,0,0,0,0,0,0,0,0,0,0,0,0,0,0,0,0,0,22,233,255,83,0,0,0,0,0,0,0,0,0,0,0,0,0,0,0,0,0,0,0,0,0,0,0,0,129,254,238,44,0,0,0,0,0,0,0,0,0,0,0,0,0,0,0,0,0,0,0,0,0,0,0,59,249,254,62,0,0,0,0,0,0,0,0,0,0,0,0,0,0,0,0,0,0,0,0,0,0,0,0,133,254,187,5,0,0,0,0,0,0,0,0,0,0,0,0,0,0,0,0,0,0,0,0,0,0,0,9,205,248,58,0,0,0,0,0,0,0,0,0,0,0,0,0,0,0,0,0,0,0,0,0,0,0,0,126,254,182,0,0,0,0,0,0,0,0,0,0,0,0,0,0,0,0,0,0,0,0,0,0,0,0,75,251,240,57,0,0,0,0,0,0,0,0,0,0,0,0,0,0,0,0,0,0,0,0,0,0,0,19,221,254,166,0,0,0,0,0,0,0,0,0,0,0,0,0,0,0,0,0,0,0,0,0,0,0,3,203,254,219,35,0,0,0,0,0,0,0,0,0,0,0,0,0,0,0,0,0,0,0,0,0,0,0,38,254,254,77,0,0,0,0,0,0,0,0,0,0,0,0,0,0,0,0,0,0,0,0,0,0,0,31,224,254,115,1,0,0,0,0,0,0,0,0,0,0,0,0,0,0,0,0,0,0,0,0,0,0,0,133,254,254,52,0,0,0,0,0,0,0,0,0,0,0,0,0,0,0,0,0,0,0,0,0,0,0,61,242,254,254,52,0,0,0,0,0,0,0,0,0,0,0,0,0,0,0,0,0,0,0,0,0,0,0,121,254,254,219,40,0,0,0,0,0,0,0,0,0,0,0,0,0,0,0,0,0,0,0,0,0,0,0,121,254,207,18,0,0,0,0,0,0,0,0,0,0,0,0,0,0,0,0,0,0,0,0,0,0,0,0,0,0,0,0,0,0,0,0,0,0,0,0,0,0,0,0,0,0\n",
      "\n"
     ]
    }
   ],
   "source": [
    "# pandas가 없는 극한의 환경이라면?\n",
    "\n",
    "data_file = open(\"mnist_data/mnist_test_10.csv\", \"r\")\n",
    "data_list = data_file.readlines()\n",
    "data_file.close()\n",
    "len(data_list)\n",
    "print(data_list[0])"
   ]
  },
  {
   "cell_type": "markdown",
   "id": "5e497877",
   "metadata": {},
   "source": [
    "# Display Image"
   ]
  },
  {
   "cell_type": "code",
   "execution_count": 25,
   "id": "8ae884ee",
   "metadata": {},
   "outputs": [],
   "source": [
    "import numpy as np\n",
    "import matplotlib.pyplot as plt\n",
    "%matplotlib inline"
   ]
  },
  {
   "cell_type": "code",
   "execution_count": 27,
   "id": "7281ec99",
   "metadata": {},
   "outputs": [
    {
     "name": "stdout",
     "output_type": "stream",
     "text": [
      "Number :  7\n"
     ]
    },
    {
     "data": {
      "image/png": "[encoded data removed]",
      "text/plain": [
       "<Figure size 432x288 with 1 Axes>"
      ]
     },
     "metadata": {
      "needs_background": "light"
     },
     "output_type": "display_data"
    }
   ],
   "source": [
    "all_values = data_list[0].split(',')\n",
    "#all_values = csv_test.iloc[0].to_numpy()\n",
    "image_array = np.asfarray(all_values[1:]).reshape((28,28))\n",
    "plt.imshow(image_array, cmap='Greys', interpolation='None')\n",
    "print(\"Number : \", all_values[0])"
   ]
  },
  {
   "cell_type": "markdown",
   "id": "340d6360",
   "metadata": {},
   "source": [
    "# Prepare training data"
   ]
  },
  {
   "cell_type": "code",
   "execution_count": 28,
   "id": "b1e2253c",
   "metadata": {},
   "outputs": [
    {
     "name": "stdout",
     "output_type": "stream",
     "text": [
      "[0.01       0.01       0.01       0.01       0.01       0.01\n",
      " 0.01       0.01       0.01       0.01       0.01       0.01\n",
      " 0.01       0.01       0.01       0.01       0.01       0.01\n",
      " 0.01       0.01       0.01       0.01       0.01       0.01\n",
      " 0.01       0.01       0.01       0.01       0.01       0.01\n",
      " 0.01       0.01       0.01       0.01       0.01       0.01\n",
      " 0.01       0.01       0.01       0.01       0.01       0.01\n",
      " 0.01       0.01       0.01       0.01       0.01       0.01\n",
      " 0.01       0.01       0.01       0.01       0.01       0.01\n",
      " 0.01       0.01       0.01       0.01       0.01       0.01\n",
      " 0.01       0.01       0.01       0.01       0.01       0.01\n",
      " 0.01       0.01       0.01       0.01       0.01       0.01\n",
      " 0.01       0.01       0.01       0.01       0.01       0.01\n",
      " 0.01       0.01       0.01       0.01       0.01       0.01\n",
      " 0.01       0.01       0.01       0.01       0.01       0.01\n",
      " 0.01       0.01       0.01       0.01       0.01       0.01\n",
      " 0.01       0.01       0.01       0.01       0.01       0.01\n",
      " 0.01       0.01       0.01       0.01       0.01       0.01\n",
      " 0.01       0.01       0.01       0.01       0.01       0.01\n",
      " 0.01       0.01       0.01       0.01       0.01       0.01\n",
      " 0.01       0.01       0.01       0.01       0.01       0.01\n",
      " 0.01       0.01       0.01       0.01       0.01       0.01\n",
      " 0.01       0.01       0.01       0.01       0.01       0.01\n",
      " 0.01       0.01       0.01       0.01       0.01       0.01\n",
      " 0.01       0.01       0.01       0.01       0.01       0.01\n",
      " 0.01       0.01       0.01       0.01       0.01       0.01\n",
      " 0.01       0.01       0.01       0.01       0.01       0.01\n",
      " 0.01       0.01       0.01       0.01       0.01       0.01\n",
      " 0.01       0.01       0.01       0.01       0.01       0.01\n",
      " 0.01       0.01       0.01       0.01       0.01       0.01\n",
      " 0.01       0.01       0.01       0.01       0.01       0.01\n",
      " 0.01       0.01       0.01       0.01       0.01       0.01\n",
      " 0.01       0.01       0.01       0.01       0.01       0.01\n",
      " 0.01       0.01       0.01       0.01       0.33611765 0.72823529\n",
      " 0.62729412 0.59623529 0.24294118 0.14976471 0.01       0.01\n",
      " 0.01       0.01       0.01       0.01       0.01       0.01\n",
      " 0.01       0.01       0.01       0.01       0.01       0.01\n",
      " 0.01       0.01       0.01       0.01       0.01       0.01\n",
      " 0.01       0.01       0.87188235 0.99611765 0.99611765 0.99611765\n",
      " 0.99611765 0.94564706 0.77870588 0.77870588 0.77870588 0.77870588\n",
      " 0.77870588 0.77870588 0.77870588 0.77870588 0.67       0.21188235\n",
      " 0.01       0.01       0.01       0.01       0.01       0.01\n",
      " 0.01       0.01       0.01       0.01       0.01       0.01\n",
      " 0.27011765 0.45258824 0.28952941 0.45258824 0.64282353 0.89129412\n",
      " 0.99611765 0.88352941 0.99611765 0.99611765 0.99611765 0.98058824\n",
      " 0.89905882 0.99611765 0.99611765 0.55352941 0.01       0.01\n",
      " 0.01       0.01       0.01       0.01       0.01       0.01\n",
      " 0.01       0.01       0.01       0.01       0.01       0.01\n",
      " 0.01       0.01       0.01       0.076      0.26623529 0.06435294\n",
      " 0.27011765 0.27011765 0.27011765 0.23905882 0.09152941 0.92623529\n",
      " 0.99611765 0.42152941 0.01       0.01       0.01       0.01\n",
      " 0.01       0.01       0.01       0.01       0.01       0.01\n",
      " 0.01       0.01       0.01       0.01       0.01       0.01\n",
      " 0.01       0.01       0.01       0.01       0.01       0.01\n",
      " 0.01       0.01       0.33223529 0.99223529 0.82141176 0.07988235\n",
      " 0.01       0.01       0.01       0.01       0.01       0.01\n",
      " 0.01       0.01       0.01       0.01       0.01       0.01\n",
      " 0.01       0.01       0.01       0.01       0.01       0.01\n",
      " 0.01       0.01       0.01       0.01       0.01       0.09541176\n",
      " 0.91458824 1.         0.33223529 0.01       0.01       0.01\n",
      " 0.01       0.01       0.01       0.01       0.01       0.01\n",
      " 0.01       0.01       0.01       0.01       0.01       0.01\n",
      " 0.01       0.01       0.01       0.01       0.01       0.01\n",
      " 0.01       0.01       0.01       0.51082353 0.99611765 0.934\n",
      " 0.18082353 0.01       0.01       0.01       0.01       0.01\n",
      " 0.01       0.01       0.01       0.01       0.01       0.01\n",
      " 0.01       0.01       0.01       0.01       0.01       0.01\n",
      " 0.01       0.01       0.01       0.01       0.01       0.01\n",
      " 0.23905882 0.97670588 0.99611765 0.25070588 0.01       0.01\n",
      " 0.01       0.01       0.01       0.01       0.01       0.01\n",
      " 0.01       0.01       0.01       0.01       0.01       0.01\n",
      " 0.01       0.01       0.01       0.01       0.01       0.01\n",
      " 0.01       0.01       0.01       0.01       0.52635294 0.99611765\n",
      " 0.736      0.02941176 0.01       0.01       0.01       0.01\n",
      " 0.01       0.01       0.01       0.01       0.01       0.01\n",
      " 0.01       0.01       0.01       0.01       0.01       0.01\n",
      " 0.01       0.01       0.01       0.01       0.01       0.01\n",
      " 0.01       0.04494118 0.80588235 0.97282353 0.23517647 0.01\n",
      " 0.01       0.01       0.01       0.01       0.01       0.01\n",
      " 0.01       0.01       0.01       0.01       0.01       0.01\n",
      " 0.01       0.01       0.01       0.01       0.01       0.01\n",
      " 0.01       0.01       0.01       0.01       0.01       0.49917647\n",
      " 0.99611765 0.71658824 0.01       0.01       0.01       0.01\n",
      " 0.01       0.01       0.01       0.01       0.01       0.01\n",
      " 0.01       0.01       0.01       0.01       0.01       0.01\n",
      " 0.01       0.01       0.01       0.01       0.01       0.01\n",
      " 0.01       0.01       0.30117647 0.98447059 0.94176471 0.23129412\n",
      " 0.01       0.01       0.01       0.01       0.01       0.01\n",
      " 0.01       0.01       0.01       0.01       0.01       0.01\n",
      " 0.01       0.01       0.01       0.01       0.01       0.01\n",
      " 0.01       0.01       0.01       0.01       0.01       0.08376471\n",
      " 0.868      0.99611765 0.65447059 0.01       0.01       0.01\n",
      " 0.01       0.01       0.01       0.01       0.01       0.01\n",
      " 0.01       0.01       0.01       0.01       0.01       0.01\n",
      " 0.01       0.01       0.01       0.01       0.01       0.01\n",
      " 0.01       0.01       0.02164706 0.79811765 0.99611765 0.86023529\n",
      " 0.14588235 0.01       0.01       0.01       0.01       0.01\n",
      " 0.01       0.01       0.01       0.01       0.01       0.01\n",
      " 0.01       0.01       0.01       0.01       0.01       0.01\n",
      " 0.01       0.01       0.01       0.01       0.01       0.01\n",
      " 0.15752941 0.99611765 0.99611765 0.30894118 0.01       0.01\n",
      " 0.01       0.01       0.01       0.01       0.01       0.01\n",
      " 0.01       0.01       0.01       0.01       0.01       0.01\n",
      " 0.01       0.01       0.01       0.01       0.01       0.01\n",
      " 0.01       0.01       0.01       0.13035294 0.87964706 0.99611765\n",
      " 0.45647059 0.01388235 0.01       0.01       0.01       0.01\n",
      " 0.01       0.01       0.01       0.01       0.01       0.01\n",
      " 0.01       0.01       0.01       0.01       0.01       0.01\n",
      " 0.01       0.01       0.01       0.01       0.01       0.01\n",
      " 0.01       0.52635294 0.99611765 0.99611765 0.21188235 0.01\n",
      " 0.01       0.01       0.01       0.01       0.01       0.01\n",
      " 0.01       0.01       0.01       0.01       0.01       0.01\n",
      " 0.01       0.01       0.01       0.01       0.01       0.01\n",
      " 0.01       0.01       0.01       0.01       0.24682353 0.94952941\n",
      " 0.99611765 0.99611765 0.21188235 0.01       0.01       0.01\n",
      " 0.01       0.01       0.01       0.01       0.01       0.01\n",
      " 0.01       0.01       0.01       0.01       0.01       0.01\n",
      " 0.01       0.01       0.01       0.01       0.01       0.01\n",
      " 0.01       0.01       0.47976471 0.99611765 0.99611765 0.86023529\n",
      " 0.16529412 0.01       0.01       0.01       0.01       0.01\n",
      " 0.01       0.01       0.01       0.01       0.01       0.01\n",
      " 0.01       0.01       0.01       0.01       0.01       0.01\n",
      " 0.01       0.01       0.01       0.01       0.01       0.01\n",
      " 0.47976471 0.99611765 0.81364706 0.07988235 0.01       0.01\n",
      " 0.01       0.01       0.01       0.01       0.01       0.01\n",
      " 0.01       0.01       0.01       0.01       0.01       0.01\n",
      " 0.01       0.01       0.01       0.01       0.01       0.01\n",
      " 0.01       0.01       0.01       0.01       0.01       0.01\n",
      " 0.01       0.01       0.01       0.01       0.01       0.01\n",
      " 0.01       0.01       0.01       0.01       0.01       0.01\n",
      " 0.01       0.01       0.01       0.01      ]\n",
      "(784,)\n"
     ]
    }
   ],
   "source": [
    "# convert pixel range 0 ~ 255 to 0.01 ~ 1.0\n",
    "\n",
    "scaled_input = (np.asfarray(all_values[1:]) / 255.0 * 0.99) + 0.01\n",
    "print(scaled_input)\n",
    "print(scaled_input.shape)"
   ]
  },
  {
   "cell_type": "markdown",
   "id": "2212d512",
   "metadata": {},
   "source": [
    "- one hot encoding :\n",
    "컴퓨터 또는 기계는 문자보다는 숫자를 더 잘 처리 할 수 있습니다. 이를 위해 자연어 처리에서는 문자를 숫자로 바꾸는 여러가지 기법들이 있습니다. 원-핫 인코딩(One-Hot Encoding)은 그 많은 기법 중에서 단어를 표현하는 가장 기본적인 표현 방법이며, 머신 러닝, 딥 러닝을 하기 위해서는 반드시 배워야 하는 표현 방법입니다.\n",
    "\n",
    "- https://wikidocs.net/22647"
   ]
  },
  {
   "cell_type": "code",
   "execution_count": 29,
   "id": "6899f1db",
   "metadata": {},
   "outputs": [
    {
     "name": "stdout",
     "output_type": "stream",
     "text": [
      "7 [0.01 0.01 0.01 0.01 0.01 0.01 0.01 0.99 0.01 0.01]\n"
     ]
    }
   ],
   "source": [
    "# label (0.01 ~ 0.99)\n",
    "onodes = 10\n",
    "targets = np.zeros(onodes) + 0.01\n",
    "targets[int(all_values[0])] = 0.99\n",
    "print(all_values[0], targets)"
   ]
  },
  {
   "cell_type": "markdown",
   "id": "af01456e",
   "metadata": {},
   "source": [
    "# train\n",
    "- 학습코드"
   ]
  },
  {
   "cell_type": "code",
   "execution_count": 51,
   "id": "c66e7fcf",
   "metadata": {},
   "outputs": [],
   "source": [
    "input_nodes = 784\n",
    "hidden_nodes = 340\n",
    "output_nodes = 10\n",
    "\n",
    "learning_rate = 0.07\n",
    "\n",
    "# epoch :전체 학습데이터를 몇바퀴 돌것이냐\n",
    "epoch = 4\n",
    "\n",
    "n = MyNeuralNet(input_nodes, hidden_nodes, output_nodes, learning_rate)\n",
    "# n.printWeight()"
   ]
  },
  {
   "cell_type": "code",
   "execution_count": 52,
   "id": "deb46ef5",
   "metadata": {},
   "outputs": [],
   "source": [
    "training_data_file = open(\"mnist_data/mnist_train.csv\", \"r\")\n",
    "training_data_list = training_data_file.readlines()\n",
    "training_data_file.close()"
   ]
  },
  {
   "cell_type": "code",
   "execution_count": 53,
   "id": "fa537e2a",
   "metadata": {},
   "outputs": [
    {
     "name": "stderr",
     "output_type": "stream",
     "text": [
      "  0%|                                                                               | 20.0/60.0k [00:00<05:14, 190iB/s]"
     ]
    },
    {
     "name": "stdout",
     "output_type": "stream",
     "text": [
      "======= 1 epoch =======\n"
     ]
    },
    {
     "name": "stderr",
     "output_type": "stream",
     "text": [
      "100%|██████████████████████████████████████████████████████████████████████████████| 60.0k/60.0k [04:28<00:00, 223iB/s]\n",
      "  0%|                                                                               | 24.0/60.0k [00:00<04:17, 233iB/s]"
     ]
    },
    {
     "name": "stdout",
     "output_type": "stream",
     "text": [
      "======= 2 epoch =======\n"
     ]
    },
    {
     "name": "stderr",
     "output_type": "stream",
     "text": [
      "100%|██████████████████████████████████████████████████████████████████████████████| 60.0k/60.0k [04:37<00:00, 216iB/s]\n",
      "  0%|                                                                               | 22.0/60.0k [00:00<04:32, 220iB/s]"
     ]
    },
    {
     "name": "stdout",
     "output_type": "stream",
     "text": [
      "======= 3 epoch =======\n"
     ]
    },
    {
     "name": "stderr",
     "output_type": "stream",
     "text": [
      "100%|██████████████████████████████████████████████████████████████████████████████| 60.0k/60.0k [04:25<00:00, 226iB/s]\n",
      "  0%|                                                                               | 23.0/60.0k [00:00<04:33, 219iB/s]"
     ]
    },
    {
     "name": "stdout",
     "output_type": "stream",
     "text": [
      "======= 4 epoch =======\n"
     ]
    },
    {
     "name": "stderr",
     "output_type": "stream",
     "text": [
      "100%|██████████████████████████████████████████████████████████████████████████████| 60.0k/60.0k [04:45<00:00, 210iB/s]\n"
     ]
    }
   ],
   "source": [
    "from tqdm import tqdm\n",
    "\n",
    "for i in range(epoch):\n",
    "    print(\"======= {} epoch =======\".format(i+1))\n",
    "    progress_bar = tqdm(total=len(training_data_list), unit='iB', unit_scale=True)\n",
    "    for record in training_data_list:\n",
    "        all_values = record.split(',')\n",
    "        inputs = (np.asfarray(all_values[1:]) / 255.0 * 0.99) + 0.01\n",
    "        targets = np.zeros(output_nodes) + 0.01\n",
    "        targets[int(all_values[0])] = 0.99\n",
    "        n.train(inputs, targets)\n",
    "\n",
    "        progress_bar.update(1)\n",
    "    progress_bar.close()"
   ]
  },
  {
   "cell_type": "code",
   "execution_count": 54,
   "id": "bec035bf",
   "metadata": {},
   "outputs": [],
   "source": [
    "# epoch = 3\n",
    "\n",
    "# for i in range(epoch):    \n",
    "#     progress_bar = tqdm(total=len(training_data_list), unit='iB', unit_scale=True)\n",
    "#     for record in training_data_list:\n",
    "#         all_values = record.split(',')\n",
    "#         inputs = (np.asfarray(all_values[1:]) / 255.0 * 0.99) + 0.01\n",
    "#         targets = np.zeros(output_nodes) + 0.01\n",
    "#         targets[int(all_values[0])] = 0.99\n",
    "#         n.train(inputs, targets)\n",
    "\n",
    "#         progress_bar.update(1)\n",
    "#     progress_bar.close()"
   ]
  },
  {
   "cell_type": "code",
   "execution_count": 55,
   "id": "b5ccee47",
   "metadata": {},
   "outputs": [],
   "source": [
    "test_data_list_file = open(\"mnist_data/mnist_test.csv\", \"r\")\n",
    "test_data_list = test_data_list_file.readlines()\n",
    "test_data_list_file.close()"
   ]
  },
  {
   "cell_type": "code",
   "execution_count": 56,
   "id": "e68e60d6",
   "metadata": {},
   "outputs": [],
   "source": [
    "# matchfalse = 0\n",
    "\n",
    "# for record in test_data_list:\n",
    "#     all_values = record.split(',')\n",
    "#     inputs = (np.asfarray(all_values[1:]) / 255.0 * 0.99) + 0.01\n",
    "#     result = n.inference(inputs)\n",
    "#     print(\"test result : {} / {}\".format(all_values[0], result.argmax()))\n",
    "    \n",
    "#     if int(all_values[0]) != int(result.argmax()):\n",
    "#         matchfalse += 1\n",
    "        \n",
    "# print(str(matchfalse/len(test_data_list)*100)+\"%\")"
   ]
  },
  {
   "cell_type": "code",
   "execution_count": 57,
   "id": "0a3cd5ab",
   "metadata": {},
   "outputs": [
    {
     "name": "stdout",
     "output_type": "stream",
     "text": [
      "performance =  0.9737\n"
     ]
    }
   ],
   "source": [
    "score = []\n",
    "\n",
    "for record in test_data_list:\n",
    "    all_values = record.split(',')\n",
    "    inputs = (np.asfarray(all_values[1:]) / 255.0 * 0.99) + 0.01\n",
    "    result = n.inference(inputs)\n",
    "       \n",
    "    if int(all_values[0]) == result.argmax():\n",
    "        score.append(1)\n",
    "    else:\n",
    "        score.append(0)\n",
    "score_array = np.asarray(score)\n",
    "print(\"performance = \", score_array.sum() / score_array.size)"
   ]
  },
  {
   "cell_type": "code",
   "execution_count": null,
   "id": "252c3db1",
   "metadata": {},
   "outputs": [],
   "source": []
  },
  {
   "cell_type": "code",
   "execution_count": null,
   "id": "a0636739",
   "metadata": {},
   "outputs": [],
   "source": []
  },
  {
   "cell_type": "code",
   "execution_count": null,
   "id": "c7b86c76",
   "metadata": {},
   "outputs": [],
   "source": []
  }
 ],
 "metadata": {
  "kernelspec": {
   "display_name": "Python 3",
   "language": "python",
   "name": "python3"
  },
  "language_info": {
   "codemirror_mode": {
    "name": "ipython",
    "version": 3
   },
   "file_extension": ".py",
   "mimetype": "text/x-python",
   "name": "python",
   "nbconvert_exporter": "python",
   "pygments_lexer": "ipython3",
   "version": "3.8.8"
  },
  "toc": {
   "base_numbering": 1,
   "nav_menu": {},
   "number_sections": true,
   "sideBar": true,
   "skip_h1_title": false,
   "title_cell": "Table of Contents",
   "title_sidebar": "Contents",
   "toc_cell": false,
   "toc_position": {},
   "toc_section_display": true,
   "toc_window_display": false
  }
 },
 "nbformat": 4,
 "nbformat_minor": 5
}
