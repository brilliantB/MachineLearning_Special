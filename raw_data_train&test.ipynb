{
 "cells": [
  {
   "cell_type": "markdown",
   "id": "1ef091a7",
   "metadata": {},
   "source": [
    "# train with mnist"
   ]
  },
  {
   "cell_type": "code",
   "execution_count": 1,
   "id": "6ed4042e",
   "metadata": {},
   "outputs": [],
   "source": [
    "import numpy as np\n",
    "import scipy.special"
   ]
  },
  {
   "cell_type": "code",
   "execution_count": 2,
   "id": "2d70302d",
   "metadata": {},
   "outputs": [],
   "source": [
    "# 신경망 클래스 정의\n",
    "class MyNeuralNet:\n",
    "    \n",
    "    def __init__(self, inputnodes, hiddennodes, outputnodes, learningrate):\n",
    "        \n",
    "        # 입력, 은닉, 출력 계층의 노드 개수 설정\n",
    "        self.innode = inputnodes\n",
    "        self.hnode = hiddennodes\n",
    "        self.outnode = outputnodes\n",
    "        \n",
    "        # 학습률\n",
    "        self.lr = learningrate\n",
    "        \n",
    "        # weight\n",
    "        self.wih = np.random.rand(self.hnode, self.innode) - 0.5 # weight input hidden\n",
    "        self.who = np.random.rand(self.outnode, self.hnode) - 0.5 # weight hidden output\n",
    "        \n",
    "        pass\n",
    "    \n",
    "    def printWeight(self):\n",
    "        print(self.wih.shape, self.wih)\n",
    "        print(self.who.shape, self.who)\n",
    "    \n",
    "    # forward and backward (학습코드는 뒤에서 앞으로)\n",
    "    def train(self, input_list, target_list):\n",
    "        input = np.array(input_list, ndmin = 2).T\n",
    "        \n",
    "        # input -> hidden\n",
    "        hidden_input = np.dot(self.wih, input)\n",
    "        hidden_output = scipy.special.expit(hidden_input)\n",
    "        \n",
    "        # hidden -> output\n",
    "        output_hidden = np.dot(self.who, hidden_output)\n",
    "        final_outputs = scipy.special.expit(output_hidden)\n",
    "        \n",
    "        # Get Error (오차 역전파)\n",
    "        targets = np.array(target_list, ndmin = 2).T\n",
    "        output_error = targets - final_outputs # output -> hidden\n",
    "        hidden_error = np.dot(self.who.T, output_error) # hidden -> input\n",
    "        \n",
    "        # Update weight (Gradient descent)\n",
    "        self.who += self.lr * \\\n",
    "                            np.dot((output_error * final_outputs) * (1.0 - final_outputs), \\\n",
    "                            np.transpose(hidden_output))\n",
    "        \n",
    "        self.wih += self.lr * \\\n",
    "                            np.dot((hidden_error * hidden_output) * (1.0 - hidden_output), \\\n",
    "                            np.transpose(input))\n",
    "        \n",
    "    # forward\n",
    "    def inference(self, input_list):\n",
    "        inputs = np.array(input_list, ndmin = 2).T # 행렬 연산을 위해 1행을 1열로\n",
    "        \n",
    "        # input -> hidden\n",
    "        hidden_input = np.dot(self.wih, inputs) # 행렬 곱연산이므로 순서 주의\n",
    "        hidden_output = scipy.special.expit(hidden_input) # sigmoid function\n",
    "        \n",
    "        # hidden -> output\n",
    "        output_hidden = np.dot(self.who, hidden_output) \n",
    "        final_output = scipy.special.expit(output_hidden)\n",
    "        \n",
    "        return final_output"
   ]
  },
  {
   "cell_type": "code",
   "execution_count": 3,
   "id": "ec26ab8c",
   "metadata": {},
   "outputs": [
    {
     "name": "stdout",
     "output_type": "stream",
     "text": [
      "[[0.48517148]\n",
      " [0.61187205]\n",
      " [0.46834536]]\n",
      "[[0.48607409]\n",
      " [0.58843369]\n",
      " [0.44562478]]\n"
     ]
    }
   ],
   "source": [
    "net = MyNeuralNet(4, 4, 3, 0.5)\n",
    "print(net.inference([10,10,20,20]))\n",
    "net.train([10, 20, 40, 50], [0.5, 0.2, 0.1])\n",
    "print(net.inference([10,10,20,20]))"
   ]
  },
  {
   "cell_type": "markdown",
   "id": "daa05fe9",
   "metadata": {},
   "source": [
    "# MNIST"
   ]
  },
  {
   "cell_type": "code",
   "execution_count": 4,
   "id": "2b15d155",
   "metadata": {},
   "outputs": [
    {
     "name": "stdout",
     "output_type": "stream",
     "text": [
      "Requirement already satisfied: numpy in c:\\users\\user\\anaconda3\\lib\\site-packages (1.20.1)\n"
     ]
    }
   ],
   "source": [
    "!pip install numpy"
   ]
  },
  {
   "cell_type": "code",
   "execution_count": 5,
   "id": "2444eab3",
   "metadata": {},
   "outputs": [
    {
     "name": "stderr",
     "output_type": "stream",
     "text": [
      "하위 디렉터리 또는 파일 mnist_data이(가) 이미 있습니다.\n"
     ]
    }
   ],
   "source": [
    "!mkdir mnist_data"
   ]
  },
  {
   "cell_type": "code",
   "execution_count": 6,
   "id": "789ac5a3",
   "metadata": {},
   "outputs": [],
   "source": [
    "mnist_train_url = 'http://www.pjreddie.com/media/files/mnist_train.csv'\n",
    "mnist_test_url = 'http://www.pjreddie.com/media/files/mnist_test.csv'"
   ]
  },
  {
   "cell_type": "code",
   "execution_count": 7,
   "id": "b80b5a5c",
   "metadata": {},
   "outputs": [],
   "source": [
    "import shutil\n",
    "import requests\n",
    "\n",
    "def download(url, file_name, file_mode='w'):\n",
    "    response = requests.get(url, stream=True)\n",
    "    with open(file_name, file_mode) as out_file:\n",
    "        shutil.copyfileobj(response.raw, out_file)\n",
    "    del response"
   ]
  },
  {
   "cell_type": "code",
   "execution_count": 8,
   "id": "704e564e",
   "metadata": {},
   "outputs": [],
   "source": [
    "download(mnist_train_url, 'mnist_data/mnist_train.csv', 'wb')\n",
    "download(mnist_test_url, 'mnist_data/mnist_test.csv', 'wb')"
   ]
  },
  {
   "cell_type": "code",
   "execution_count": 9,
   "id": "58b47c40",
   "metadata": {},
   "outputs": [],
   "source": [
    "from tqdm import tqdm # python progressive bar utility => network 지식 필요 (chunk 단위로)\n",
    "import requests\n",
    "\n",
    "# url = 'http://www.ovh.net/files/10Mb.dat' # big file test\n",
    "def download(url, file_name, file_mode = 'wb'):\n",
    "    # Streaming, so we can iterate over the response\n",
    "    response = requests.get(url, stream=True)\n",
    "    total_size_in_bytes=int(response.headers.get('content-length', 0)) # 데이터 전체 사이즈\n",
    "    block_size=1024 # 1 Kilobyte # 데이터 다운 사이즈 단위 조절\n",
    "    progress_bar=tqdm(total=total_size_in_bytes, unit='iB', unit_scale=True)\n",
    "    with open(file_name, file_mode) as file:\n",
    "        for data in response.iter_content(block_size):\n",
    "            progress_bar.update(len(data))\n",
    "            file.write(data)\n",
    "    progress_bar.close()\n",
    "    if total_size_in_bytes != 0 and progress_bar.n != total_size_in_bytes:\n",
    "        print('ERROR, something went wrong')"
   ]
  },
  {
   "cell_type": "code",
   "execution_count": 10,
   "id": "809de22e",
   "metadata": {},
   "outputs": [
    {
     "name": "stderr",
     "output_type": "stream",
     "text": [
      "100%|██████████████████████████████████████████████████████████████████████████████| 110M/110M [00:22<00:00, 4.98MiB/s]\n",
      "100%|████████████████████████████████████████████████████████████████████████████| 18.3M/18.3M [00:03<00:00, 4.67MiB/s]\n"
     ]
    }
   ],
   "source": [
    "download(mnist_train_url, 'mnist_data/mnist_train.csv', 'wb')\n",
    "download(mnist_test_url, 'mnist_data/mnist_test.csv.csv', 'wb')"
   ]
  },
  {
   "cell_type": "markdown",
   "id": "da98f173",
   "metadata": {},
   "source": [
    "# train"
   ]
  },
  {
   "cell_type": "code",
   "execution_count": 11,
   "id": "438168cd",
   "metadata": {
    "scrolled": true
   },
   "outputs": [],
   "source": [
    "input_nodes = 784\n",
    "hidden_nodes = 256 # 사용자 정의\n",
    "output_nodes = 10\n",
    "\n",
    "learning_rate = 0.145 # 사용자 정의\n",
    "\n",
    "epoch = 5 # 학습을 몇 번 반복할 것인지?\n",
    "\n",
    "n = MyNeuralNet(input_nodes, hidden_nodes, output_nodes, learning_rate)\n",
    "# n.printWeight()"
   ]
  },
  {
   "cell_type": "code",
   "execution_count": 12,
   "id": "2ac49fd0",
   "metadata": {},
   "outputs": [],
   "source": [
    "training_data_file = open('mnist_data/mnist_train.csv', 'r')\n",
    "training_data_list = training_data_file.readlines()\n",
    "training_data_file.close()"
   ]
  },
  {
   "cell_type": "code",
   "execution_count": null,
   "id": "d88656bd",
   "metadata": {},
   "outputs": [
    {
     "name": "stderr",
     "output_type": "stream",
     "text": [
      "  0%|                                                                               | 11.0/60.0k [00:00<09:08, 109iB/s]"
     ]
    },
    {
     "name": "stdout",
     "output_type": "stream",
     "text": [
      "============== 1 epoch ==============\n"
     ]
    },
    {
     "name": "stderr",
     "output_type": "stream",
     "text": [
      "100%|██████████████████████████████████████████████████████████████████████████████| 60.0k/60.0k [03:57<00:00, 253iB/s]\n",
      "  0%|                                                                               | 29.0/60.0k [00:00<03:30, 284iB/s]"
     ]
    },
    {
     "name": "stdout",
     "output_type": "stream",
     "text": [
      "============== 2 epoch ==============\n"
     ]
    },
    {
     "name": "stderr",
     "output_type": "stream",
     "text": [
      "100%|██████████████████████████████████████████████████████████████████████████████| 60.0k/60.0k [03:45<00:00, 266iB/s]\n",
      "  0%|                                                                               | 29.0/60.0k [00:00<03:33, 282iB/s]"
     ]
    },
    {
     "name": "stdout",
     "output_type": "stream",
     "text": [
      "============== 3 epoch ==============\n"
     ]
    },
    {
     "name": "stderr",
     "output_type": "stream",
     "text": [
      " 26%|████████████████████▏                                                         | 15.6k/60.0k [00:58<02:45, 269iB/s]"
     ]
    }
   ],
   "source": [
    "from tqdm import tqdm\n",
    "\n",
    "for i in range(epoch):\n",
    "    print(\"============== {} epoch ==============\".format(i+1))\n",
    "    progress_bar = tqdm(total=len(training_data_list), unit='iB', unit_scale=True)\n",
    "    for record in training_data_list:\n",
    "        all_values = record.split(',')\n",
    "        inputs = (np.asfarray(all_values[1:]) / 255.0 * 0.99) + 0.01\n",
    "        targets = np.zeros(output_nodes) + 0.01\n",
    "        targets[int(all_values[0])] = 0.99\n",
    "        n.train(inputs, targets)\n",
    "        \n",
    "        progress_bar.update(1)\n",
    "    progress_bar.close()"
   ]
  },
  {
   "cell_type": "code",
   "execution_count": null,
   "id": "023c64fb",
   "metadata": {},
   "outputs": [],
   "source": [
    "# for record in training_data_list:\n",
    "#     all_values = record.split(',')\n",
    "#     inputs = (np.asfarray(all_values[1:]) / 255.0 * 0.99) + 0.01\n",
    "#     targets = np.zeros(output_nodes) + 0.01\n",
    "#     targets[int(all_values[0])] = 0.99\n",
    "#     n.train(inputs, targets)"
   ]
  },
  {
   "cell_type": "markdown",
   "id": "d692b31b",
   "metadata": {},
   "source": [
    "# Test"
   ]
  },
  {
   "cell_type": "code",
   "execution_count": null,
   "id": "c7c0f078",
   "metadata": {},
   "outputs": [],
   "source": [
    "test_data_file = open('mnist_data/mnist_test.csv', 'r')\n",
    "test_data_list = test_data_file.readlines()\n",
    "test_data_file.close()"
   ]
  },
  {
   "cell_type": "code",
   "execution_count": null,
   "id": "6cea4d79",
   "metadata": {},
   "outputs": [],
   "source": [
    "# 정확도\n",
    "score = []\n",
    "for record in test_data_list:\n",
    "    all_values = record.split(',')\n",
    "    inputs = (np.asfarray(all_values[1:]) / 255.0 * 0.99) + 0.01\n",
    "    result = n.inference(inputs)\n",
    "    if int(all_values[0]) == result.argmax():\n",
    "        score.append(1)\n",
    "    else:\n",
    "        score.append(0)\n",
    "score_array = np.asarray(score)\n",
    "accuracy = score_array.sum() / score_array.size\n",
    "print('performance = ', accuracy)"
   ]
  },
  {
   "cell_type": "markdown",
   "id": "a39dedc4",
   "metadata": {},
   "source": [
    "# Custom Data"
   ]
  },
  {
   "cell_type": "code",
   "execution_count": null,
   "id": "a4aa8aea",
   "metadata": {},
   "outputs": [],
   "source": [
    "import numpy as np\n",
    "import matplotlib.pyplot as plt\n",
    "import pandas as pd\n",
    "%matplotlib inline\n",
    "\n",
    "from PIL import Image, ImageOps\n",
    "\n",
    "img = image.open('my_number/5_001.png')\n",
    "img_gray = img.convert('L') # pil image mode 'L': 8bit pixel(0~255)\n",
    "# black: 255\n",
    "# white: 0\n",
    "# 8bit pixel로 변환해줘야 255가 아닌 회색들도 잡아줌\n",
    "\n",
    "print(img)     \n",
    "print(img_gray)\n",
    "# img_gray.show()\n",
    "\n",
    "img_inverted = ImageOps.invert(img_gray) # rgb 반대로 invert\n",
    "# img_inverted.show()\n",
    "\n",
    "pixel_list = np.asarray(img_inverted).flatten().tolist() # 2차원 배열(np.asarray) => 1차원 배열로(flatten)\n",
    "pixel_list.insert(0, 5)\n",
    "print(pixel_list)\n",
    "\n",
    "image_array = np.asfarray(pixel_list[1:]).reshape((28,28))\n",
    "plt.imshow(image_array, cmap='Greys', interpolation='None')\n",
    "print('Number : ', pixel_list[0])"
   ]
  },
  {
   "cell_type": "markdown",
   "id": "f4f2a619",
   "metadata": {},
   "source": [
    "# Pickle로 Model 저장"
   ]
  },
  {
   "cell_type": "code",
   "execution_count": null,
   "id": "9f0c7496",
   "metadata": {},
   "outputs": [],
   "source": [
    "import pickle"
   ]
  },
  {
   "cell_type": "code",
   "execution_count": null,
   "id": "d9e0764d",
   "metadata": {},
   "outputs": [],
   "source": [
    "filename = f'{input_nodes}-{hidden_nodes}-{output_nodes}-{learning_rate}-ep{epoch}-acc{accuracy}.obj'\n",
    "\n",
    "filehandler = open(filename,\"wb\")\n",
    "pickle.dump(net, filehandler)\n",
    "filehandler.close()\n",
    "\n",
    "file = open(filename, \"rb\")\n",
    "loadedNet = pickle.load(file)\n",
    "file.close\n",
    "\n",
    "print(loadedNet)\n",
    "print(loadedNet.inference([10, 10, 20, 2]))"
   ]
  },
  {
   "cell_type": "code",
   "execution_count": null,
   "id": "c7f5ab0e",
   "metadata": {},
   "outputs": [],
   "source": [
    "loaded_net = MyNeuralNet.load(\"\")\n",
    "print(loaded_net)"
   ]
  },
  {
   "cell_type": "code",
   "execution_count": null,
   "id": "7fe6d22b",
   "metadata": {},
   "outputs": [],
   "source": []
  }
 ],
 "metadata": {
  "kernelspec": {
   "display_name": "Python 3",
   "language": "python",
   "name": "python3"
  },
  "language_info": {
   "codemirror_mode": {
    "name": "ipython",
    "version": 3
   },
   "file_extension": ".py",
   "mimetype": "text/x-python",
   "name": "python",
   "nbconvert_exporter": "python",
   "pygments_lexer": "ipython3",
   "version": "3.8.8"
  },
  "toc": {
   "base_numbering": 1,
   "nav_menu": {},
   "number_sections": true,
   "sideBar": true,
   "skip_h1_title": false,
   "title_cell": "Table of Contents",
   "title_sidebar": "Contents",
   "toc_cell": false,
   "toc_position": {},
   "toc_section_display": true,
   "toc_window_display": false
  }
 },
 "nbformat": 4,
 "nbformat_minor": 5
}
