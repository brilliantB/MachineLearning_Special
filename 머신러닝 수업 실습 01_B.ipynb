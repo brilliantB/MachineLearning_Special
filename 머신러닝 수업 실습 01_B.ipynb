{
 "cells": [
  {
   "cell_type": "markdown",
   "id": "8a2c5ea6",
   "metadata": {},
   "source": [
    "# 일반적인 프로그래밍 문제 해결 (난이도 – 쉬움)\n",
    "### 킬로미터를 입력받아 마일로 변환하여 값을 반환하는 함수(프로그램)을 만들어 보세요."
   ]
  },
  {
   "cell_type": "code",
   "execution_count": 2,
   "id": "c99e11d4",
   "metadata": {},
   "outputs": [
    {
     "name": "stdout",
     "output_type": "stream",
     "text": [
      "5.500 kilometers is equal to 3.418 miles\n",
      "6.500 kilometers is equal to 4.039 miles\n"
     ]
    }
   ],
   "source": [
    "# Python3 program to convert\n",
    "# kilometers to miles\n",
    "  \n",
    "# driver code\n",
    "kilometers = 5.5\n",
    "  \n",
    "# conversion factor\n",
    "conv = 0.621371\n",
    "  \n",
    "# calculate miles\n",
    "miles = kilometers * conv\n",
    "print('%0.3f kilometers is equal to %0.3f miles' %(kilometers,miles))\n",
    "  \n",
    "kilometers = 6.5\n",
    "  \n",
    "# calculate miles\n",
    "miles = kilometers * conv\n",
    "print('%0.3f kilometers is equal to %0.3f miles' %(kilometers,miles))"
   ]
  },
  {
   "cell_type": "markdown",
   "id": "28c48eed",
   "metadata": {},
   "source": [
    "# 일반적인 프로그래밍 문제 해결 (난이도 – 보통)\n",
    "### 두 개의 이미지를 입력받아 두 이미지가 같은지 판단하는 함수를 만들어 보세요."
   ]
  },
  {
   "cell_type": "code",
   "execution_count": 3,
   "id": "ca6227c4",
   "metadata": {
    "scrolled": true
   },
   "outputs": [
    {
     "name": "stdout",
     "output_type": "stream",
     "text": [
      "Collecting opencv-python\n",
      "  Downloading opencv_python-4.5.4.58-cp38-cp38-win_amd64.whl (35.1 MB)\n",
      "Requirement already satisfied: numpy>=1.17.3 in c:\\users\\user\\anaconda3\\lib\\site-packages (from opencv-python) (1.20.1)\n",
      "Installing collected packages: opencv-python\n",
      "Successfully installed opencv-python-4.5.4.58\n"
     ]
    }
   ],
   "source": [
    "!pip install opencv-python"
   ]
  },
  {
   "cell_type": "code",
   "execution_count": 12,
   "id": "75db1a1e",
   "metadata": {},
   "outputs": [
    {
     "name": "stdout",
     "output_type": "stream",
     "text": [
      "<class 'numpy.ndarray'>\n",
      "(819, 828, 3)\n"
     ]
    }
   ],
   "source": [
    "import cv2\n",
    "\n",
    "img = cv2.imread('img01.jpg')\n",
    "\n",
    "print(type(img))\n",
    "print(img.shape)"
   ]
  },
  {
   "cell_type": "code",
   "execution_count": 15,
   "id": "0003fa75",
   "metadata": {},
   "outputs": [
    {
     "name": "stdout",
     "output_type": "stream",
     "text": [
      "다릅니다\n"
     ]
    }
   ],
   "source": [
    "from PIL import Image      # PIL :이미지 분석 및 처리를 쉽게 할 수 있는 라이브러리\n",
    "\n",
    "image1 = Image.open('img02.jpg')\n",
    "image2 = Image.open('img03.jpg')\n",
    "pil_image = Image.fromarray(img)\n",
    "#print(image)\n",
    "\n",
    "if image1 == image2 :\n",
    "    print('같습니다')\n",
    "else:\n",
    "    print(\"다릅니다\") "
   ]
  },
  {
   "cell_type": "markdown",
   "id": "c9775052",
   "metadata": {},
   "source": [
    "### 강사님 버전"
   ]
  },
  {
   "cell_type": "code",
   "execution_count": 10,
   "id": "c517fd64",
   "metadata": {},
   "outputs": [
    {
     "name": "stdout",
     "output_type": "stream",
     "text": [
      "<_io.TextIOWrapper name='img01.jpg' mode='r' encoding='cp949'>\n"
     ]
    }
   ],
   "source": [
    "fp = open ('img01.jpg')\n",
    "print(fp)"
   ]
  },
  {
   "cell_type": "code",
   "execution_count": 16,
   "id": "e4d73a8b",
   "metadata": {},
   "outputs": [],
   "source": [
    "# 이미지를 열어보자\n",
    "from PIL import Image                   # PIL :이미지 분석 및 처리를 쉽게 할 수 있는 라이브러리\n",
    "image_one = Image.open('img01.jpg')\n",
    "image_one.show()                        # 이미지를 보여주자. (Point, 공식문서 확인하기)"
   ]
  },
  {
   "cell_type": "code",
   "execution_count": 18,
   "id": "f99fcf6b",
   "metadata": {},
   "outputs": [
    {
     "name": "stdout",
     "output_type": "stream",
     "text": [
      "image are the same\n"
     ]
    }
   ],
   "source": [
    "# 강사님버전\n",
    "from PIL import Image                     # PIL :이미지 분석 및 처리를 쉽게 할 수 있는 라이브러리\n",
    "\n",
    "image_one = Image.open('img01.jpg')\n",
    "image_two = Image.open('img01.jpg')\n",
    "\n",
    "from PIL import ImageChops                             # 이미지를 읽은 다음에 \n",
    "diff = ImageChops.difference(image_one, image_two)     # difference : pixel-by pixel, 픽셀에 값을 빼서 디퍼런스에 값을 줄것이다.\n",
    "\n",
    "if diff.getbbox():                                     # diff 가 무엇을 반환해주는가? 뺀 이미지를 반환해준 것.\n",
    "    print('image are different')                       # getbbox() : 다 빼니까 까만이미지가 나오네? / bounding box ?\n",
    "else:                                              \n",
    "    print('image are the same')"
   ]
  },
  {
   "cell_type": "markdown",
   "id": "e8c0f416",
   "metadata": {},
   "source": [
    "## 일반적인 프로그래밍 문제 해결 (난이도 – 어려움)\n",
    "### 한 개의 이미지를 입력받아 고양이인지 아닌지 판단하는 함수(프로그램)을 만들어보세요."
   ]
  },
  {
   "cell_type": "code",
   "execution_count": null,
   "id": "f1aa67b4",
   "metadata": {},
   "outputs": [],
   "source": []
  },
  {
   "cell_type": "code",
   "execution_count": null,
   "id": "b14876a6",
   "metadata": {},
   "outputs": [],
   "source": []
  },
  {
   "cell_type": "code",
   "execution_count": null,
   "id": "032021e1",
   "metadata": {},
   "outputs": [],
   "source": []
  }
 ],
 "metadata": {
  "kernelspec": {
   "display_name": "Python 3",
   "language": "python",
   "name": "python3"
  },
  "language_info": {
   "codemirror_mode": {
    "name": "ipython",
    "version": 3
   },
   "file_extension": ".py",
   "mimetype": "text/x-python",
   "name": "python",
   "nbconvert_exporter": "python",
   "pygments_lexer": "ipython3",
   "version": "3.8.8"
  }
 },
 "nbformat": 4,
 "nbformat_minor": 5
}
