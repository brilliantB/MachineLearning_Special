{
 "cells": [
  {
   "cell_type": "markdown",
   "id": "3c439e38",
   "metadata": {},
   "source": [
    "# 신경망 만들기"
   ]
  },
  {
   "cell_type": "markdown",
   "id": "313ab703",
   "metadata": {},
   "source": [
    "Step 1. 기본 클래스 만들기\n",
    "\n",
    "- 구조 정의\n",
    "- 학습\n",
    "- 추론"
   ]
  },
  {
   "cell_type": "code",
   "execution_count": 23,
   "id": "eb7686fd",
   "metadata": {},
   "outputs": [],
   "source": [
    "import numpy as np\n",
    "import scipy.special"
   ]
  },
  {
   "cell_type": "code",
   "execution_count": 50,
   "id": "d34e3437",
   "metadata": {},
   "outputs": [],
   "source": [
    "# 생성자때 최대한 많은 정보 넣어주는게 좋다.\n",
    "# 학습률 : hyper parameter(개발이 진행되면서 추가한 파라미터)\n",
    "# parameter와 hyper parameter의 차이점이 면접질문\n",
    "# weight 값에 매칭된 data => parameter\n",
    "\n",
    "class MyNeuralNet:\n",
    "    def __init__(self, inputnodes, hiddennodes, outputnodes, learningrate):\n",
    "        \n",
    "        # 입력, 은닉, 출력 계층의 노드 개수 설정\n",
    "        self.innode = inputnodes\n",
    "        self.hnode = hiddennodes\n",
    "        self.outnode = outputnodes\n",
    "        \n",
    "        # 학습률\n",
    "        self.lr = learningrate\n",
    "        \n",
    "        # (열 갯수, 행 갯수)\n",
    "        self.wih = np.random.rand(self.hnode, self.innode) - 0.5\n",
    "        self.who = np.random.rand(self.outnode, self.hnode) - 0.5\n",
    "        \n",
    "        #pass\n",
    "    \n",
    "    def printWeight(self):\n",
    "        print(self.wih.shape, self.wih)\n",
    "        print(self.who.shape, self.who)\n",
    "    \n",
    "    # forward and backward\n",
    "    def train(self, input_list, target_list):\n",
    "        input = np.array(input_list, ndmin=2).T\n",
    "        \n",
    "        # input -> hidden\n",
    "        hidden_input = np.dot(self.wih, input)\n",
    "        hidden_output = scipy.special.expit(hidden_input)\n",
    "        \n",
    "        #hidden -> output\n",
    "        output_hidden = np.dot(self.who, hidden_output)\n",
    "        final_outputs = scipy.special.expit(output_hidden)\n",
    "        \n",
    "        # Get Error\n",
    "        targets = np.array(target_list, ndmin=2).T\n",
    "        \n",
    "        output_error = targets - final_outputs\n",
    "        hidden_error = np.dot(self.who.T, output_error)\n",
    "        print(output_error)\n",
    "        \n",
    "        # update weight\n",
    "        self.who += self.lr * np.dot((output_error * final_outputs) * (1.0 - final_outputs), np.transpose(hidden_output))\n",
    "        self.wih += self.lr * np.dot((hidden_error * hidden_output) * (1.0 - hidden_output), np.transpose(input))\n",
    "    \n",
    "    # forward\n",
    "    def inference(self, input_list):\n",
    "        input = np.array(input_list, ndmin=2).T\n",
    "        \n",
    "        # input -> hidden\n",
    "        hidden_input = np.dot(self.wih, input)\n",
    "        hidden_output = scipy.special.expit(hidden_input)\n",
    "        \n",
    "        #hidden -> output\n",
    "        output_hidden = np.dot(self.who, hidden_output)\n",
    "        final_output = scipy.special.expit(output_hidden)\n",
    "        \n",
    "        return final_output\n",
    "        "
   ]
  },
  {
   "cell_type": "code",
   "execution_count": 53,
   "id": "d1a84aec",
   "metadata": {},
   "outputs": [
    {
     "name": "stdout",
     "output_type": "stream",
     "text": [
      "[[0.49995318]\n",
      " [0.49990565]\n",
      " [0.49987837]]\n",
      "[[ 1.17808319e-07]\n",
      " [-2.99999761e-01]\n",
      " [-3.99999711e-01]]\n",
      "[[0.49995314]\n",
      " [0.49990557]\n",
      " [0.49987828]]\n"
     ]
    }
   ],
   "source": [
    "net = MyNeuralNet(4, 4, 3, 0.5)\n",
    "print(net.inference([10, 10, 20, 20]))\n",
    "net.train([10, 20, 40, 50], [0.5, 0.2, 0.1])\n",
    "print(net.inference([10, 10, 20, 20]))"
   ]
  },
  {
   "cell_type": "code",
   "execution_count": null,
   "id": "67826711",
   "metadata": {},
   "outputs": [],
   "source": []
  },
  {
   "cell_type": "code",
   "execution_count": null,
   "id": "97123e27",
   "metadata": {},
   "outputs": [],
   "source": []
  },
  {
   "cell_type": "code",
   "execution_count": null,
   "id": "c129d709",
   "metadata": {},
   "outputs": [],
   "source": []
  },
  {
   "cell_type": "code",
   "execution_count": null,
   "id": "89581775",
   "metadata": {},
   "outputs": [],
   "source": []
  },
  {
   "cell_type": "code",
   "execution_count": null,
   "id": "8f742818",
   "metadata": {},
   "outputs": [],
   "source": []
  }
 ],
 "metadata": {
  "kernelspec": {
   "display_name": "Python 3",
   "language": "python",
   "name": "python3"
  },
  "language_info": {
   "codemirror_mode": {
    "name": "ipython",
    "version": 3
   },
   "file_extension": ".py",
   "mimetype": "text/x-python",
   "name": "python",
   "nbconvert_exporter": "python",
   "pygments_lexer": "ipython3",
   "version": "3.8.8"
  },
  "toc": {
   "base_numbering": 1,
   "nav_menu": {},
   "number_sections": true,
   "sideBar": true,
   "skip_h1_title": false,
   "title_cell": "Table of Contents",
   "title_sidebar": "Contents",
   "toc_cell": false,
   "toc_position": {},
   "toc_section_display": true,
   "toc_window_display": false
  }
 },
 "nbformat": 4,
 "nbformat_minor": 5
}
