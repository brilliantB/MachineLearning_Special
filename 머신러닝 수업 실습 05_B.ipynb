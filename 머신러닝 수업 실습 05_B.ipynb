{
 "cells": [
  {
   "cell_type": "markdown",
   "id": "53afd446",
   "metadata": {},
   "source": [
    "# Custom Data\n",
    "- 그림판에서 숫자 5를 그린 후 28 X 28 픽셀로 저장하자 (파일명 : 5_001.png)"
   ]
  },
  {
   "cell_type": "code",
   "execution_count": 9,
   "id": "0a004117",
   "metadata": {},
   "outputs": [
    {
     "name": "stdout",
     "output_type": "stream",
     "text": [
      "<PIL.PngImagePlugin.PngImageFile image mode=RGB size=28x28 at 0x2314CC033D0>\n",
      "<PIL.Image.Image image mode=L size=28x28 at 0x2314CC03130>\n",
      "785\n"
     ]
    }
   ],
   "source": [
    "import numpy as np\n",
    "import matplotlib.pyplot as plt\n",
    "import pandas as pd\n",
    "%matplotlib inline\n",
    "\n",
    "from PIL import Image, ImageOps\n",
    "\n",
    "img = Image.open('5_001.png')\n",
    "img_gray = img.convert('L')\n",
    "print(img)\n",
    "print(img_gray)\n",
    "# img_gray.show()\n",
    "\n",
    "img_inverted = ImageOps.invert(img_gray)\n",
    "img_gray.show()\n",
    "\n",
    "pixel_list = np.asarray(img_inverted).flatten().tolist()\n",
    "pixel_list.insert(0, 5)\n",
    "print(len(pixel_list))\n",
    "\n",
    "# pil_im = ImageOps.invert(.convert('L'))\n",
    "# pixel_list = np.asarray(pil_im).flatten().tolist()\n",
    "# pixel_list.insert(0, 5)\n",
    "# print(pixel_list)\n",
    "\n",
    "# image_array = np.asfarray(pil_im)\n",
    "# plt.imshow(image_array, cmap='Greys', interpolation='None')\n",
    "\n",
    "# df = pd.DataFrame([p])\n",
    "# df.head()"
   ]
  },
  {
   "cell_type": "markdown",
   "id": "e2f57b49",
   "metadata": {},
   "source": [
    "# Display Image\n",
    "- 지난주 학습에 Custom Data 추가해보자"
   ]
  },
  {
   "cell_type": "code",
   "execution_count": 8,
   "id": "fb3c2592",
   "metadata": {},
   "outputs": [
    {
     "name": "stdout",
     "output_type": "stream",
     "text": [
      "<PIL.PngImagePlugin.PngImageFile image mode=RGB size=28x28 at 0x2314BA46130>\n",
      "<PIL.Image.Image image mode=L size=28x28 at 0x2314CBF7400>\n",
      "785\n"
     ]
    },
    {
     "ename": "NameError",
     "evalue": "name 'data_list' is not defined",
     "output_type": "error",
     "traceback": [
      "\u001b[1;31m---------------------------------------------------------------------------\u001b[0m",
      "\u001b[1;31mNameError\u001b[0m                                 Traceback (most recent call last)",
      "\u001b[1;32m<ipython-input-8-9413b6f4a0de>\u001b[0m in \u001b[0;36m<module>\u001b[1;34m\u001b[0m\n\u001b[0;32m     20\u001b[0m \u001b[1;33m\u001b[0m\u001b[0m\n\u001b[0;32m     21\u001b[0m \u001b[1;33m\u001b[0m\u001b[0m\n\u001b[1;32m---> 22\u001b[1;33m \u001b[0mall_values\u001b[0m \u001b[1;33m=\u001b[0m \u001b[0mdata_list\u001b[0m\u001b[1;33m[\u001b[0m\u001b[1;36m1\u001b[0m\u001b[1;33m]\u001b[0m\u001b[1;33m.\u001b[0m\u001b[0msplit\u001b[0m\u001b[1;33m(\u001b[0m\u001b[1;34m','\u001b[0m\u001b[1;33m)\u001b[0m\u001b[1;33m\u001b[0m\u001b[1;33m\u001b[0m\u001b[0m\n\u001b[0m\u001b[0;32m     23\u001b[0m \u001b[1;31m#all_values = csv_test.iloc[0].to_numpy()\u001b[0m\u001b[1;33m\u001b[0m\u001b[1;33m\u001b[0m\u001b[1;33m\u001b[0m\u001b[0m\n\u001b[0;32m     24\u001b[0m \u001b[0mimage_array\u001b[0m \u001b[1;33m=\u001b[0m \u001b[0mnp\u001b[0m\u001b[1;33m.\u001b[0m\u001b[0masfarray\u001b[0m\u001b[1;33m(\u001b[0m\u001b[0mall_values\u001b[0m\u001b[1;33m[\u001b[0m\u001b[1;36m1\u001b[0m\u001b[1;33m:\u001b[0m\u001b[1;33m]\u001b[0m\u001b[1;33m)\u001b[0m\u001b[1;33m.\u001b[0m\u001b[0mreshape\u001b[0m\u001b[1;33m(\u001b[0m\u001b[1;33m(\u001b[0m\u001b[1;36m28\u001b[0m\u001b[1;33m,\u001b[0m \u001b[1;36m28\u001b[0m\u001b[1;33m)\u001b[0m\u001b[1;33m)\u001b[0m\u001b[1;33m\u001b[0m\u001b[1;33m\u001b[0m\u001b[0m\n",
      "\u001b[1;31mNameError\u001b[0m: name 'data_list' is not defined"
     ]
    }
   ],
   "source": [
    "import numpy as np\n",
    "import matplotlib.pyplot as plt\n",
    "import pandas as pd\n",
    "%matplotlib inline\n",
    "\n",
    "from PIL import Image, ImageOps\n",
    "\n",
    "img = Image.open('5_001.png')\n",
    "img_gray = img.convert('L')\n",
    "print(img)\n",
    "print(img_gray)\n",
    "# img_gray.show()\n",
    "\n",
    "img_inverted = ImageOps.invert(img_gray)\n",
    "img_gray.show()\n",
    "\n",
    "pixel_list = np.asarray(img_inverted).flatten().tolist()\n",
    "pixel_list.insert(0, 5)\n",
    "print(len(pixel_list))\n",
    "\n",
    "\n",
    "all_values = data_list[1].split(',')\n",
    "#all_values = csv_test.iloc[0].to_numpy()\n",
    "image_array = np.asfarray(all_values[1:]).reshape((28, 28))\n",
    "plt.imshow(image_array, cmap='Greys', interpolation='None')\n",
    "print(\"Number : \", all_values[0])"
   ]
  },
  {
   "cell_type": "code",
   "execution_count": null,
   "id": "d1dfad7a",
   "metadata": {},
   "outputs": [],
   "source": []
  },
  {
   "cell_type": "code",
   "execution_count": null,
   "id": "01bdf0a0",
   "metadata": {},
   "outputs": [],
   "source": []
  },
  {
   "cell_type": "code",
   "execution_count": null,
   "id": "cef31b4f",
   "metadata": {},
   "outputs": [],
   "source": []
  }
 ],
 "metadata": {
  "kernelspec": {
   "display_name": "Python 3",
   "language": "python",
   "name": "python3"
  },
  "language_info": {
   "codemirror_mode": {
    "name": "ipython",
    "version": 3
   },
   "file_extension": ".py",
   "mimetype": "text/x-python",
   "name": "python",
   "nbconvert_exporter": "python",
   "pygments_lexer": "ipython3",
   "version": "3.8.8"
  },
  "toc": {
   "base_numbering": 1,
   "nav_menu": {},
   "number_sections": true,
   "sideBar": true,
   "skip_h1_title": false,
   "title_cell": "Table of Contents",
   "title_sidebar": "Contents",
   "toc_cell": false,
   "toc_position": {},
   "toc_section_display": true,
   "toc_window_display": false
  }
 },
 "nbformat": 4,
 "nbformat_minor": 5
}
