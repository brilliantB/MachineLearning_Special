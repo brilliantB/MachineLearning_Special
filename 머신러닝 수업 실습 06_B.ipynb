{
 "cells": [
  {
   "cell_type": "markdown",
   "id": "34ef0fb3",
   "metadata": {},
   "source": [
    "# Test load \n",
    "- Pickle로 Model 저장"
   ]
  },
  {
   "cell_type": "code",
   "execution_count": 7,
   "id": "82e39c8d",
   "metadata": {},
   "outputs": [],
   "source": [
    "import pickle"
   ]
  },
  {
   "cell_type": "code",
   "execution_count": 11,
   "id": "0a17e1c1",
   "metadata": {},
   "outputs": [],
   "source": [
    "class MyNeuralNet :\n",
    "    \n",
    "    def __init__(self, inputnodes, hiddennodes, outputnodes, learningrate):\n",
    "        # 입력, 은닉, 출력 계층의 노드 개수 설정\n",
    "        self.innode = inputnodes\n",
    "        self.hnode = hiddennodes\n",
    "        self.outnode = outputnodes\n",
    "        \n",
    "        # 학습률\n",
    "        self.lr = learningrate\n",
    "        \n",
    "        self.wih = np.random.rand(self.hnode, self.innode) -0.5\n",
    "        self.who = np.random.rand(self.outnode, self.hnode) -0.5\n",
    "        \n",
    "        pass\n",
    "    \n",
    "    def printWeight(self):\n",
    "        print(self.wih.shape, self.wih)\n",
    "        print(self.who.shape, self.who)\n",
    "        \n",
    "    # forward and backward\n",
    "    def train(self, input_list, target_list):\n",
    "        input = np.array(input_list, ndmin = 2).T\n",
    "        \n",
    "        # input -> hidden\n",
    "        hidden_input = np.dot(self.wih, input)\n",
    "        hidden_output = scipy.special.expit(hidden_input)\n",
    "        \n",
    "        # hidden -> output\n",
    "        output_hidden = np.dot(self.who, hidden_output)\n",
    "        final_outputs = scipy.special.expit(output_hidden)\n",
    "        \n",
    "        # Get Error\n",
    "        targets = np.array(target_list, ndmin = 2).T\n",
    "        output_error = targets - final_outputs\n",
    "        hidden_error = np.dot(self.who.T, output_error)\n",
    "        \n",
    "        # Update weight\n",
    "        self.who += self.lr * \\\n",
    "                            np.dot((output_error * final_outputs) * (1.0 - final_outputs), \\\n",
    "                            np.transpose(hidden_output))\n",
    "        \n",
    "        self.wih += self.lr * \\\n",
    "                            np.dot((hidden_error * hidden_output) * (1.0 - hidden_output), \\\n",
    "                            np.transpose(input))\n",
    "        \n",
    "    # forward\n",
    "    def inference(self, input_list):\n",
    "        input = np.array(input_list, ndmin = 2).T\n",
    "        \n",
    "        # input -> hidden\n",
    "        hidden_input = np.dot(self.wih, input)\n",
    "        hidden_output = scipy.special.expit(hidden_input)\n",
    "        \n",
    "        # hidden -> output\n",
    "        output_hidden = np.dot(self.who, hidden_output)\n",
    "        final_output = scipy.special.expit(output_hidden)\n",
    "        \n",
    "        return final_output"
   ]
  },
  {
   "cell_type": "code",
   "execution_count": 12,
   "id": "72135031",
   "metadata": {},
   "outputs": [
    {
     "name": "stdout",
     "output_type": "stream",
     "text": [
      "<__main__.MyNeuralNet object at 0x0000028CABEE6D30>\n"
     ]
    }
   ],
   "source": [
    "file = open('784-100-10-0.1-ep9-acc0.9704.obj', 'rb')\n",
    "loadedNet = pickle.load(file)\n",
    "file.close()\n",
    "\n",
    "print(loadedNet)"
   ]
  },
  {
   "cell_type": "code",
   "execution_count": 16,
   "id": "b554d32c",
   "metadata": {},
   "outputs": [],
   "source": [
    "test_data_list_file = open(\"mnist_data/mnist_test.csv\", \"r\")\n",
    "test_data_list = test_data_list_file.readlines()\n",
    "test_data_list_file.close()"
   ]
  },
  {
   "cell_type": "code",
   "execution_count": 18,
   "id": "f3367c42",
   "metadata": {},
   "outputs": [
    {
     "name": "stdout",
     "output_type": "stream",
     "text": [
      "performance =  0.9704\n"
     ]
    }
   ],
   "source": [
    "import numpy as np\n",
    "import scipy.special\n",
    "\n",
    "score = []\n",
    "\n",
    "for record in test_data_list:\n",
    "    all_values = record.split(',')\n",
    "    inputs = (np.asfarray(all_values[1:]) / 255.0 * 0.99) + 0.01\n",
    "    result = loadedNet.inference(inputs)\n",
    "       \n",
    "    if int(all_values[0]) == result.argmax():\n",
    "        score.append(1)\n",
    "    else:\n",
    "        score.append(0)\n",
    "score_array = np.asarray(score)\n",
    "print(\"performance = \", score_array.sum() / score_array.size)"
   ]
  },
  {
   "cell_type": "code",
   "execution_count": 20,
   "id": "2df3dcbe",
   "metadata": {},
   "outputs": [],
   "source": [
    "# filename = f'{input_nodes}-{hidden_nodes}-{output_nodes}-{learning_rate}-ep{epoch}-acc{accuracy}.obj'\n",
    "\n",
    "# filehandler = open(filename,\"wb\")\n",
    "# pickle.dump(net, filehandler)\n",
    "# filehandler.close()\n",
    "\n",
    "# file = open(filename, \"rb\")\n",
    "# loadedNet = pickle.load(file)\n",
    "# file.close\n",
    "\n",
    "# print(loadedNet)\n",
    "# print(loadedNet.inference([10, 10, 20, 2]))"
   ]
  },
  {
   "cell_type": "code",
   "execution_count": 19,
   "id": "024eef4f",
   "metadata": {},
   "outputs": [],
   "source": [
    "# loaded_net = MyNeuralNet.load(\"\")\n",
    "# print(loaded_net)"
   ]
  },
  {
   "cell_type": "markdown",
   "id": "f2e01dbd",
   "metadata": {},
   "source": [
    "# Tensorflow 설치"
   ]
  },
  {
   "cell_type": "code",
   "execution_count": 21,
   "id": "f4d388fa",
   "metadata": {},
   "outputs": [
    {
     "name": "stdout",
     "output_type": "stream",
     "text": [
      "Collecting tensorflow\n",
      "  Downloading tensorflow-2.7.0-cp38-cp38-win_amd64.whl (430.8 MB)\n",
      "Collecting grpcio<2.0,>=1.24.3\n",
      "  Downloading grpcio-1.42.0-cp38-cp38-win_amd64.whl (3.3 MB)\n",
      "Requirement already satisfied: typing-extensions>=3.6.6 in c:\\users\\user\\anaconda3\\lib\\site-packages (from tensorflow) (3.7.4.3)\n",
      "Collecting tensorflow-estimator<2.8,~=2.7.0rc0\n",
      "  Downloading tensorflow_estimator-2.7.0-py2.py3-none-any.whl (463 kB)\n",
      "Requirement already satisfied: h5py>=2.9.0 in c:\\users\\user\\anaconda3\\lib\\site-packages (from tensorflow) (2.10.0)\n",
      "Collecting flatbuffers<3.0,>=1.12\n",
      "  Downloading flatbuffers-2.0-py2.py3-none-any.whl (26 kB)\n",
      "Requirement already satisfied: wrapt>=1.11.0 in c:\\users\\user\\anaconda3\\lib\\site-packages (from tensorflow) (1.12.1)\n",
      "Collecting libclang>=9.0.1\n",
      "  Downloading libclang-12.0.0-py2.py3-none-win_amd64.whl (13.1 MB)\n",
      "Collecting google-pasta>=0.1.1\n",
      "  Downloading google_pasta-0.2.0-py3-none-any.whl (57 kB)\n",
      "Collecting keras-preprocessing>=1.1.1\n",
      "  Downloading Keras_Preprocessing-1.1.2-py2.py3-none-any.whl (42 kB)\n",
      "Collecting gast<0.5.0,>=0.2.1\n",
      "  Downloading gast-0.4.0-py3-none-any.whl (9.8 kB)\n",
      "Collecting protobuf>=3.9.2\n",
      "  Downloading protobuf-3.19.1-cp38-cp38-win_amd64.whl (895 kB)\n",
      "Collecting keras<2.8,>=2.7.0rc0\n",
      "  Downloading keras-2.7.0-py2.py3-none-any.whl (1.3 MB)\n",
      "Collecting astunparse>=1.6.0\n",
      "  Downloading astunparse-1.6.3-py2.py3-none-any.whl (12 kB)\n",
      "Collecting opt-einsum>=2.3.2\n",
      "  Downloading opt_einsum-3.3.0-py3-none-any.whl (65 kB)\n",
      "Requirement already satisfied: six>=1.12.0 in c:\\users\\user\\anaconda3\\lib\\site-packages (from tensorflow) (1.15.0)\n",
      "Collecting tensorflow-io-gcs-filesystem>=0.21.0\n",
      "  Downloading tensorflow_io_gcs_filesystem-0.22.0-cp38-cp38-win_amd64.whl (1.5 MB)\n",
      "Collecting termcolor>=1.1.0\n",
      "  Downloading termcolor-1.1.0.tar.gz (3.9 kB)\n",
      "Collecting absl-py>=0.4.0\n",
      "  Downloading absl_py-1.0.0-py3-none-any.whl (126 kB)\n",
      "Requirement already satisfied: numpy>=1.14.5 in c:\\users\\user\\anaconda3\\lib\\site-packages (from tensorflow) (1.20.1)\n",
      "Requirement already satisfied: wheel<1.0,>=0.32.0 in c:\\users\\user\\anaconda3\\lib\\site-packages (from tensorflow) (0.36.2)\n",
      "Collecting tensorboard~=2.6\n",
      "  Downloading tensorboard-2.7.0-py3-none-any.whl (5.8 MB)\n"
     ]
    }
   ],
   "source": [
    "!pip install tensorflow"
   ]
  },
  {
   "cell_type": "code",
   "execution_count": 24,
   "id": "986695f8",
   "metadata": {},
   "outputs": [
    {
     "name": "stdout",
     "output_type": "stream",
     "text": [
      "Requirement already satisfied: fastapi in c:\\users\\user\\anaconda3\\lib\\site-packages (0.70.0)\n",
      "Requirement already satisfied: starlette==0.16.0 in c:\\users\\user\\anaconda3\\lib\\site-packages (from fastapi) (0.16.0)\n",
      "Requirement already satisfied: pydantic!=1.7,!=1.7.1,!=1.7.2,!=1.7.3,!=1.8,!=1.8.1,<2.0.0,>=1.6.2 in c:\\users\\user\\anaconda3\\lib\\site-packages (from fastapi) (1.8.2)\n",
      "Requirement already satisfied: anyio<4,>=3.0.0 in c:\\users\\user\\anaconda3\\lib\\site-packages (from starlette==0.16.0->fastapi) (3.3.4)\n",
      "Requirement already satisfied: idna>=2.8 in c:\\users\\user\\anaconda3\\lib\\site-packages (from anyio<4,>=3.0.0->starlette==0.16.0->fastapi) (2.10)\n",
      "Requirement already satisfied: sniffio>=1.1 in c:\\users\\user\\anaconda3\\lib\\site-packages (from anyio<4,>=3.0.0->starlette==0.16.0->fastapi) (1.2.0)\n",
      "Requirement already satisfied: typing-extensions>=3.7.4.3 in c:\\users\\user\\anaconda3\\lib\\site-packages (from pydantic!=1.7,!=1.7.1,!=1.7.2,!=1.7.3,!=1.8,!=1.8.1,<2.0.0,>=1.6.2->fastapi) (3.7.4.3)\n",
      "Requirement already satisfied: uvicorn[standard] in c:\\users\\user\\anaconda3\\lib\\site-packages (0.15.0)\n",
      "Requirement already satisfied: asgiref>=3.4.0 in c:\\users\\user\\anaconda3\\lib\\site-packages (from uvicorn[standard]) (3.4.1)\n",
      "Requirement already satisfied: click>=7.0 in c:\\users\\user\\anaconda3\\lib\\site-packages (from uvicorn[standard]) (7.1.2)\n",
      "Requirement already satisfied: h11>=0.8 in c:\\users\\user\\anaconda3\\lib\\site-packages (from uvicorn[standard]) (0.12.0)\n",
      "Requirement already satisfied: colorama>=0.4 in c:\\users\\user\\anaconda3\\lib\\site-packages (from uvicorn[standard]) (0.4.4)\n",
      "Requirement already satisfied: watchgod>=0.6 in c:\\users\\user\\anaconda3\\lib\\site-packages (from uvicorn[standard]) (0.7)\n",
      "Requirement already satisfied: websockets>=9.1 in c:\\users\\user\\anaconda3\\lib\\site-packages (from uvicorn[standard]) (10.1)\n",
      "Requirement already satisfied: PyYAML>=5.1 in c:\\users\\user\\anaconda3\\lib\\site-packages (from uvicorn[standard]) (5.4.1)\n",
      "Requirement already satisfied: httptools==0.2.* in c:\\users\\user\\anaconda3\\lib\\site-packages (from uvicorn[standard]) (0.2.0)\n",
      "Requirement already satisfied: python-dotenv>=0.13 in c:\\users\\user\\anaconda3\\lib\\site-packages (from uvicorn[standard]) (0.19.2)\n",
      "Requirement already satisfied: python-multipart in c:\\users\\user\\anaconda3\\lib\\site-packages (0.0.5)\n",
      "Requirement already satisfied: six>=1.4.0 in c:\\users\\user\\anaconda3\\lib\\site-packages (from python-multipart) (1.15.0)\n"
     ]
    }
   ],
   "source": [
    "!pip install fastapi\n",
    "!pip install uvicorn[standard]\n",
    "!pip install python-multipart"
   ]
  },
  {
   "cell_type": "markdown",
   "id": "a35e3f0c",
   "metadata": {},
   "source": [
    "- !pip install uvicorn[standard]  or pip install uvicorn\n",
    "- 설치가 안되면 둘중에 하나 쓰면 된다."
   ]
  },
  {
   "cell_type": "code",
   "execution_count": null,
   "id": "585656b7",
   "metadata": {},
   "outputs": [],
   "source": [
    "# score = model.evaluate(x_test, y_test, verbose=0)\n",
    "# print(\"Test loss : \", score[0])\n",
    "# print(\"Test accuracy : \", score[1])"
   ]
  },
  {
   "cell_type": "code",
   "execution_count": null,
   "id": "620dd7ca",
   "metadata": {},
   "outputs": [],
   "source": [
    "# model.save(\"my_mnist\")"
   ]
  },
  {
   "cell_type": "code",
   "execution_count": null,
   "id": "134ed7cd",
   "metadata": {},
   "outputs": [],
   "source": []
  },
  {
   "cell_type": "code",
   "execution_count": null,
   "id": "d0323874",
   "metadata": {},
   "outputs": [],
   "source": []
  }
 ],
 "metadata": {
  "kernelspec": {
   "display_name": "Python 3",
   "language": "python",
   "name": "python3"
  },
  "language_info": {
   "codemirror_mode": {
    "name": "ipython",
    "version": 3
   },
   "file_extension": ".py",
   "mimetype": "text/x-python",
   "name": "python",
   "nbconvert_exporter": "python",
   "pygments_lexer": "ipython3",
   "version": "3.8.8"
  },
  "toc": {
   "base_numbering": 1,
   "nav_menu": {},
   "number_sections": true,
   "sideBar": true,
   "skip_h1_title": false,
   "title_cell": "Table of Contents",
   "title_sidebar": "Contents",
   "toc_cell": false,
   "toc_position": {},
   "toc_section_display": true,
   "toc_window_display": false
  }
 },
 "nbformat": 4,
 "nbformat_minor": 5
}
