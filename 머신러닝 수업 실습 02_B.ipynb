{
 "cells": [
  {
   "cell_type": "code",
   "execution_count": 1,
   "id": "d6f53107",
   "metadata": {},
   "outputs": [
    {
     "name": "stdout",
     "output_type": "stream",
     "text": [
      "Requirement already satisfied: pandas in c:\\users\\user\\anaconda3\\lib\\site-packages (1.2.4)\n",
      "Requirement already satisfied: numpy>=1.16.5 in c:\\users\\user\\anaconda3\\lib\\site-packages (from pandas) (1.20.1)\n",
      "Requirement already satisfied: pytz>=2017.3 in c:\\users\\user\\anaconda3\\lib\\site-packages (from pandas) (2021.1)\n",
      "Requirement already satisfied: python-dateutil>=2.7.3 in c:\\users\\user\\anaconda3\\lib\\site-packages (from pandas) (2.8.1)\n",
      "Requirement already satisfied: six>=1.5 in c:\\users\\user\\anaconda3\\lib\\site-packages (from python-dateutil>=2.7.3->pandas) (1.15.0)\n"
     ]
    }
   ],
   "source": [
    "!pip install pandas"
   ]
  },
  {
   "cell_type": "code",
   "execution_count": 71,
   "id": "a97007f9",
   "metadata": {},
   "outputs": [],
   "source": [
    "import pandas as pd\n",
    "import numpy as np"
   ]
  },
  {
   "cell_type": "markdown",
   "id": "590a8fe5",
   "metadata": {},
   "source": [
    "# 실습"
   ]
  },
  {
   "cell_type": "markdown",
   "id": "2664a0e0",
   "metadata": {},
   "source": [
    "## 1000개의 각각의 배열을 곱하고 더하기\n",
    "\n",
    "z = [0, 0, 1, 1, ....]\n",
    "\n",
    "x = [1, 2, 1, .......]\n"
   ]
  },
  {
   "cell_type": "markdown",
   "id": "ff01842f",
   "metadata": {},
   "source": [
    "### 강사님 버전 : 코드"
   ]
  },
  {
   "cell_type": "code",
   "execution_count": 83,
   "id": "0f4ad946",
   "metadata": {},
   "outputs": [
    {
     "name": "stdout",
     "output_type": "stream",
     "text": [
      "1000000 1000000\n"
     ]
    }
   ],
   "source": [
    "import random\n",
    "z = [random.random() for i in range(0, 1000000)]\n",
    "x = [random.random() for i in range(0, 1000000)]\n",
    "print(len(z), len(x))"
   ]
  },
  {
   "cell_type": "code",
   "execution_count": 84,
   "id": "7f26678d",
   "metadata": {},
   "outputs": [],
   "source": [
    "# Numpy 활용하기 1\n",
    "\n",
    "# import numpy as np\n",
    "# z = np.random.rand(1, 1000)\n",
    "# x = np.random.rand(1, 1000)\n",
    "# print(z.shape)"
   ]
  },
  {
   "cell_type": "code",
   "execution_count": 85,
   "id": "18a6c952",
   "metadata": {},
   "outputs": [],
   "source": [
    "# Numpy 활용하기 2\n",
    "\n",
    "# import numpy as np\n",
    "# z = np.random.rand(1, 1000)\n",
    "# x = np.random.rand(1, 1000)\n",
    "# print(z.shape)"
   ]
  },
  {
   "cell_type": "code",
   "execution_count": 86,
   "id": "2225fcfe",
   "metadata": {},
   "outputs": [],
   "source": [
    "# numpy 활용하기 3 : 이런식으로 다양하게 매트릭스를 만들 수 있다. \n",
    "\n",
    "# import numpy as np\n",
    "# z = np.random.rand(200, 200, 3, 5, 6)\n",
    "# print(z.shape)"
   ]
  },
  {
   "cell_type": "code",
   "execution_count": 87,
   "id": "4b784cc2",
   "metadata": {},
   "outputs": [
    {
     "name": "stdout",
     "output_type": "stream",
     "text": [
      "250251.2505258252\n"
     ]
    }
   ],
   "source": [
    "sum = 0\n",
    "for i in range(0, len(z)):\n",
    "    sum = sum + (z[i] * x[i])\n",
    "print(sum)"
   ]
  },
  {
   "cell_type": "code",
   "execution_count": 88,
   "id": "05dd29a9",
   "metadata": {},
   "outputs": [
    {
     "name": "stdout",
     "output_type": "stream",
     "text": [
      "250251.2505258252 : -0.39099884033203125\n"
     ]
    }
   ],
   "source": [
    "# B 버전 : 시간 측정하기 추가\n",
    "import time\n",
    "start = time.time()\n",
    "\n",
    "sum = 0\n",
    "for i in range(0, len(z)):\n",
    "    sum = sum + (z[i] * x[i])\n",
    "    \n",
    "end = time.time()\n",
    "duration = start - end\n",
    "print(sum, ':', duration)"
   ]
  },
  {
   "cell_type": "markdown",
   "id": "52ce2671",
   "metadata": {},
   "source": [
    "### 강사님 버전 : 시간 측정 추가하기"
   ]
  },
  {
   "cell_type": "code",
   "execution_count": 89,
   "id": "cbac4c18",
   "metadata": {},
   "outputs": [
    {
     "ename": "TypeError",
     "evalue": "unsupported operand type(s) for -: 'datetime.datetime' and 'float'",
     "output_type": "error",
     "traceback": [
      "\u001b[1;31m---------------------------------------------------------------------------\u001b[0m",
      "\u001b[1;31mTypeError\u001b[0m                                 Traceback (most recent call last)",
      "\u001b[1;32m<ipython-input-89-cb754d5ba114>\u001b[0m in \u001b[0;36m<module>\u001b[1;34m\u001b[0m\n\u001b[0;32m     10\u001b[0m \u001b[1;33m\u001b[0m\u001b[0m\n\u001b[0;32m     11\u001b[0m \u001b[0mend\u001b[0m \u001b[1;33m=\u001b[0m \u001b[0mtime\u001b[0m\u001b[1;33m.\u001b[0m\u001b[0mtime\u001b[0m\u001b[1;33m(\u001b[0m\u001b[1;33m)\u001b[0m\u001b[1;33m\u001b[0m\u001b[1;33m\u001b[0m\u001b[0m\n\u001b[1;32m---> 12\u001b[1;33m \u001b[0mduration\u001b[0m \u001b[1;33m=\u001b[0m \u001b[0mstart\u001b[0m \u001b[1;33m-\u001b[0m \u001b[0mend\u001b[0m\u001b[1;33m\u001b[0m\u001b[1;33m\u001b[0m\u001b[0m\n\u001b[0m\u001b[0;32m     13\u001b[0m \u001b[0mprint\u001b[0m\u001b[1;33m(\u001b[0m\u001b[0msum\u001b[0m\u001b[1;33m)\u001b[0m\u001b[1;33m\u001b[0m\u001b[1;33m\u001b[0m\u001b[0m\n",
      "\u001b[1;31mTypeError\u001b[0m: unsupported operand type(s) for -: 'datetime.datetime' and 'float'"
     ]
    }
   ],
   "source": [
    "# 시간 측정하기 추가\n",
    "import datetime\n",
    "\n",
    "start = datetime.datetime.now()\n",
    "\n",
    "sum = 0\n",
    "for i in range(0, len(z)):\n",
    "    sum = sum + (z[i] * x[i])\n",
    "    \n",
    "    \n",
    "end = time.time()\n",
    "duration = start - end\n",
    "print(sum)"
   ]
  },
  {
   "cell_type": "markdown",
   "id": "474dbe43",
   "metadata": {},
   "source": [
    "### 앤드류 응 선생님 버전\n",
    "- Vectorization (C1W2L11) 참고 | https://youtu.be/qsIrQi0fzbY"
   ]
  },
  {
   "cell_type": "code",
   "execution_count": 58,
   "id": "6d06485c",
   "metadata": {},
   "outputs": [
    {
     "name": "stdout",
     "output_type": "stream",
     "text": [
      "[1 2 3 4]\n"
     ]
    }
   ],
   "source": [
    "import numpy as np\n",
    "a = np.array([1, 2, 3, 4])\n",
    "print(a)"
   ]
  },
  {
   "cell_type": "code",
   "execution_count": 70,
   "id": "af577545",
   "metadata": {},
   "outputs": [
    {
     "name": "stdout",
     "output_type": "stream",
     "text": [
      "250017.79672186816\n",
      "Vectortized version : 2.0074844360351562ms\n",
      "250017.79672187497\n",
      "For loop : 837.99147605896ms\n"
     ]
    }
   ],
   "source": [
    "import time\n",
    "\n",
    "# 벡터화된 버전 구현해보자\n",
    "a = np.random.rand(1000000)\n",
    "b = np.random.rand(1000000)\n",
    "\n",
    "tic = time.time()\n",
    "c = np.dot(a,b)\n",
    "toc = time.time()\n",
    "\n",
    "print(c)\n",
    "print(\"Vectortized version : \" + str(1000*(toc-tic)) + \"ms\")\n",
    "\n",
    "# 벡터화되지 않은 구현해보자\n",
    "c = 0\n",
    "tic = time.time()\n",
    "for i in range(1000000):\n",
    "    c += a[i]*b[i]\n",
    "toc = time.time()\n",
    "\n",
    "print(c)\n",
    "print(\"For loop : \" + str(1000*(toc-tic)) + \"ms\")\n",
    "\n",
    "# 여기까지 벡터화 버전과 아닌 버전 모두 같은 값을 계산 했다."
   ]
  },
  {
   "cell_type": "code",
   "execution_count": null,
   "id": "59c90d2c",
   "metadata": {},
   "outputs": [],
   "source": []
  },
  {
   "cell_type": "code",
   "execution_count": null,
   "id": "a4ea8bdc",
   "metadata": {},
   "outputs": [],
   "source": []
  },
  {
   "cell_type": "code",
   "execution_count": null,
   "id": "1e0c9105",
   "metadata": {},
   "outputs": [],
   "source": []
  },
  {
   "cell_type": "code",
   "execution_count": null,
   "id": "db05c5d4",
   "metadata": {},
   "outputs": [],
   "source": []
  },
  {
   "cell_type": "code",
   "execution_count": null,
   "id": "819dea5d",
   "metadata": {},
   "outputs": [],
   "source": []
  },
  {
   "cell_type": "code",
   "execution_count": null,
   "id": "cc140b33",
   "metadata": {},
   "outputs": [],
   "source": []
  }
 ],
 "metadata": {
  "kernelspec": {
   "display_name": "Python 3",
   "language": "python",
   "name": "python3"
  },
  "language_info": {
   "codemirror_mode": {
    "name": "ipython",
    "version": 3
   },
   "file_extension": ".py",
   "mimetype": "text/x-python",
   "name": "python",
   "nbconvert_exporter": "python",
   "pygments_lexer": "ipython3",
   "version": "3.8.8"
  },
  "toc": {
   "base_numbering": 1,
   "nav_menu": {},
   "number_sections": true,
   "sideBar": true,
   "skip_h1_title": false,
   "title_cell": "Table of Contents",
   "title_sidebar": "Contents",
   "toc_cell": false,
   "toc_position": {},
   "toc_section_display": true,
   "toc_window_display": false
  }
 },
 "nbformat": 4,
 "nbformat_minor": 5
}
